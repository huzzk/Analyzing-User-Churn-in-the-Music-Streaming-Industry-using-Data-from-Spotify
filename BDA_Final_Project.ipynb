{
  "cells": [
    {
      "cell_type": "code",
      "source": [
        "%%bash\n",
        "\n",
        "pip install pyspark"
      ],
      "metadata": {
        "id": "mnOu3qbTDOnn",
        "outputId": "e3c3655b-7bfc-4f7f-f1f0-de9ae602650e",
        "colab": {
          "base_uri": "https://localhost:8080/"
        }
      },
      "execution_count": 34,
      "outputs": [
        {
          "output_type": "stream",
          "name": "stdout",
          "text": [
            "Looking in indexes: https://pypi.org/simple, https://us-python.pkg.dev/colab-wheels/public/simple/\n",
            "Requirement already satisfied: pyspark in /usr/local/lib/python3.10/dist-packages (3.4.0)\n",
            "Requirement already satisfied: py4j==0.10.9.7 in /usr/local/lib/python3.10/dist-packages (from pyspark) (0.10.9.7)\n"
          ]
        }
      ]
    },
    {
      "cell_type": "markdown",
      "source": [
        "# New Section"
      ],
      "metadata": {
        "id": "_FyavGOWZi2u"
      }
    },
    {
      "cell_type": "code",
      "source": [
        "%matplotlib inline\n",
        "from pyspark.sql import SparkSession\n",
        "from pyspark.sql import SQLContext\n",
        "from pyspark.ml import feature\n",
        "from pyspark.ml import classification\n",
        "from pyspark.sql import functions as fn\n",
        "from pyspark.ml import Pipeline\n",
        "from pyspark.ml.evaluation import BinaryClassificationEvaluator, \\\n",
        "    MulticlassClassificationEvaluator, \\\n",
        "    RegressionEvaluator\n",
        "from pyspark.ml.tuning import CrossValidator, ParamGridBuilder\n",
        "import matplotlib.pyplot as plt\n",
        "import seaborn as sns\n",
        "import pandas as pd\n",
        "spark = SparkSession.builder.getOrCreate()\n",
        "spark_context = spark.sparkContext\n",
        "sqlContext = SQLContext(spark_context)"
      ],
      "metadata": {
        "id": "r0pX094jDSd8",
        "outputId": "79684255-cc7c-4a18-8aad-bea8d3099af5",
        "colab": {
          "base_uri": "https://localhost:8080/"
        }
      },
      "execution_count": 35,
      "outputs": [
        {
          "output_type": "stream",
          "name": "stderr",
          "text": [
            "/usr/local/lib/python3.10/dist-packages/pyspark/sql/context.py:112: FutureWarning: Deprecated in 3.0.0. Use SparkSession.builder.getOrCreate() instead.\n",
            "  warnings.warn(\n"
          ]
        }
      ]
    },
    {
      "cell_type": "code",
      "execution_count": 36,
      "metadata": {
        "id": "SzHIwfExPJmP"
      },
      "outputs": [],
      "source": [
        "data = \"/content/mini_sparkify_event_data.json\"\n",
        "spotify_df = spark.read.json(data)"
      ]
    },
    {
      "cell_type": "code",
      "source": [
        "spotify_df.show(30)"
      ],
      "metadata": {
        "id": "X3yqQIGGHZ60",
        "outputId": "c5c30e3a-fa17-4a79-8899-330d93153d46",
        "colab": {
          "base_uri": "https://localhost:8080/"
        }
      },
      "execution_count": 37,
      "outputs": [
        {
          "output_type": "stream",
          "name": "stdout",
          "text": [
            "+--------------------+---------+---------+------+-------------+--------+---------+-----+--------------------+------+---------------+-------------+---------+--------------------+------+-------------+--------------------+------+\n",
            "|              artist|     auth|firstName|gender|itemInSession|lastName|   length|level|            location|method|           page| registration|sessionId|                song|status|           ts|           userAgent|userId|\n",
            "+--------------------+---------+---------+------+-------------+--------+---------+-----+--------------------+------+---------------+-------------+---------+--------------------+------+-------------+--------------------+------+\n",
            "|      Martha Tilston|Logged In|    Colin|     M|           50| Freeman|277.89016| paid|     Bakersfield, CA|   PUT|       NextSong|1538173362000|       29|           Rockpools|   200|1538352117000|Mozilla/5.0 (Wind...|    30|\n",
            "|    Five Iron Frenzy|Logged In|    Micah|     M|           79|    Long|236.09424| free|Boston-Cambridge-...|   PUT|       NextSong|1538331630000|        8|              Canada|   200|1538352180000|\"Mozilla/5.0 (Win...|     9|\n",
            "|        Adam Lambert|Logged In|    Colin|     M|           51| Freeman| 282.8273| paid|     Bakersfield, CA|   PUT|       NextSong|1538173362000|       29|   Time For Miracles|   200|1538352394000|Mozilla/5.0 (Wind...|    30|\n",
            "|              Enigma|Logged In|    Micah|     M|           80|    Long|262.71302| free|Boston-Cambridge-...|   PUT|       NextSong|1538331630000|        8|Knocking On Forbi...|   200|1538352416000|\"Mozilla/5.0 (Win...|     9|\n",
            "|           Daft Punk|Logged In|    Colin|     M|           52| Freeman|223.60771| paid|     Bakersfield, CA|   PUT|       NextSong|1538173362000|       29|Harder Better Fas...|   200|1538352676000|Mozilla/5.0 (Wind...|    30|\n",
            "|The All-American ...|Logged In|    Micah|     M|           81|    Long|208.29995| free|Boston-Cambridge-...|   PUT|       NextSong|1538331630000|        8|      Don't Leave Me|   200|1538352678000|\"Mozilla/5.0 (Win...|     9|\n",
            "|The Velvet Underg...|Logged In|    Micah|     M|           82|    Long|260.46649| free|Boston-Cambridge-...|   PUT|       NextSong|1538331630000|        8|         Run Run Run|   200|1538352886000|\"Mozilla/5.0 (Win...|     9|\n",
            "|        Starflyer 59|Logged In|    Colin|     M|           53| Freeman|185.44281| paid|     Bakersfield, CA|   PUT|       NextSong|1538173362000|       29|Passengers (Old A...|   200|1538352899000|Mozilla/5.0 (Wind...|    30|\n",
            "|                null|Logged In|    Colin|     M|           54| Freeman|     null| paid|     Bakersfield, CA|   PUT|Add to Playlist|1538173362000|       29|                null|   200|1538352905000|Mozilla/5.0 (Wind...|    30|\n",
            "|            Frumpies|Logged In|    Colin|     M|           55| Freeman|134.47791| paid|     Bakersfield, CA|   PUT|       NextSong|1538173362000|       29|          Fuck Kitty|   200|1538353084000|Mozilla/5.0 (Wind...|    30|\n",
            "|        Britt Nicole|Logged In|    Micah|     M|           83|    Long| 229.8771| free|Boston-Cambridge-...|   PUT|       NextSong|1538331630000|        8|   Walk On The Water|   200|1538353146000|\"Mozilla/5.0 (Win...|     9|\n",
            "|                null|Logged In|    Micah|     M|           84|    Long|     null| free|Boston-Cambridge-...|   GET|    Roll Advert|1538331630000|        8|                null|   200|1538353150000|\"Mozilla/5.0 (Win...|     9|\n",
            "|Edward Sharpe & T...|Logged In|    Colin|     M|           56| Freeman|223.58159| paid|     Bakersfield, CA|   PUT|       NextSong|1538173362000|       29|                Jade|   200|1538353218000|Mozilla/5.0 (Wind...|    30|\n",
            "|               Tesla|Logged In|    Micah|     M|           85|    Long|201.06404| free|Boston-Cambridge-...|   PUT|       NextSong|1538331630000|        8|      Gettin' Better|   200|1538353375000|\"Mozilla/5.0 (Win...|     9|\n",
            "|                null|Logged In|    Micah|     M|           86|    Long|     null| free|Boston-Cambridge-...|   PUT|      Thumbs Up|1538331630000|        8|                null|   307|1538353376000|\"Mozilla/5.0 (Win...|     9|\n",
            "|         Stan Mosley|Logged In|    Colin|     M|           57| Freeman|246.69995| paid|     Bakersfield, CA|   PUT|       NextSong|1538173362000|       29|   So-Called Friends|   200|1538353441000|Mozilla/5.0 (Wind...|    30|\n",
            "|Florence + The Ma...|Logged In|    Micah|     M|           87|    Long|168.64608| free|Boston-Cambridge-...|   PUT|       NextSong|1538331630000|        8| You've Got The Love|   200|1538353576000|\"Mozilla/5.0 (Win...|     9|\n",
            "|   Tokyo Police Club|Logged In|  Ashlynn|     F|            0|Williams| 166.1122| free|     Tallahassee, FL|   PUT|       NextSong|1537365219000|      217|Citizens Of Tomorrow|   200|1538353668000|\"Mozilla/5.0 (Mac...|    74|\n",
            "|             Orishas|Logged In|    Colin|     M|           58| Freeman|222.22322| paid|     Bakersfield, CA|   PUT|       NextSong|1538173362000|       29|           Represent|   200|1538353687000|Mozilla/5.0 (Wind...|    30|\n",
            "|             Ratatat|Logged In|    Micah|     M|           88|    Long|229.77261| free|Boston-Cambridge-...|   PUT|       NextSong|1538331630000|        8|              Swisha|   200|1538353744000|\"Mozilla/5.0 (Win...|     9|\n",
            "|       Manolo Garcia|Logged In|  Ashlynn|     F|            1|Williams|283.74159| free|     Tallahassee, FL|   PUT|       NextSong|1537365219000|      217|Carbon Y Ramas Secas|   200|1538353834000|\"Mozilla/5.0 (Mac...|    74|\n",
            "|            Downhere|Logged In|    Colin|     M|           59| Freeman|223.92118| paid|     Bakersfield, CA|   PUT|       NextSong|1538173362000|       29|           Here I Am|   200|1538353909000|Mozilla/5.0 (Wind...|    30|\n",
            "|               Modjo|Logged In|    Alexi|     F|            0|  Warren|250.93179| paid|Spokane-Spokane V...|   PUT|       NextSong|1532482662000|       53|         What I Mean|   200|1538353930000|Mozilla/5.0 (Wind...|    54|\n",
            "|   MÃÂ¶tley CrÃÂ¼e|Logged In|    Micah|     M|           89|    Long|231.26159| free|Boston-Cambridge-...|   PUT|       NextSong|1538331630000|        8|        Sticky Sweet|   200|1538353973000|\"Mozilla/5.0 (Win...|     9|\n",
            "|         David Bowie|Logged In|  Ashlynn|     F|            2|Williams|174.41914| free|     Tallahassee, FL|   PUT|       NextSong|1537365219000|      217|Sorrow (1997 Digi...|   200|1538354117000|\"Mozilla/5.0 (Mac...|    74|\n",
            "|             Skillet|Logged In|    Colin|     M|           60| Freeman|233.32526| paid|     Bakersfield, CA|   PUT|       NextSong|1538173362000|       29|Rebirthing (Album...|   200|1538354132000|Mozilla/5.0 (Wind...|    30|\n",
            "|       Edwyn Collins|Logged In|    Alexi|     F|            1|  Warren|  216.842| paid|Spokane-Spokane V...|   PUT|       NextSong|1532482662000|       53|You'll Never Know...|   200|1538354180000|Mozilla/5.0 (Wind...|    54|\n",
            "|        Telepopmusik|Logged In|    Micah|     M|           90|    Long|241.60608| free|Boston-Cambridge-...|   PUT|       NextSong|1538331630000|        8|               Smile|   200|1538354204000|\"Mozilla/5.0 (Win...|     9|\n",
            "|       Kings Of Leon|Logged In|  Ashlynn|     F|            3|Williams|307.46077| free|     Tallahassee, FL|   PUT|       NextSong|1537365219000|      217|          I Want You|   200|1538354291000|\"Mozilla/5.0 (Mac...|    74|\n",
            "|Florence + The Ma...|Logged In|    Colin|     M|           61| Freeman|219.66322| paid|     Bakersfield, CA|   PUT|       NextSong|1538173362000|       29|Dog Days Are Over...|   200|1538354365000|Mozilla/5.0 (Wind...|    30|\n",
            "+--------------------+---------+---------+------+-------------+--------+---------+-----+--------------------+------+---------------+-------------+---------+--------------------+------+-------------+--------------------+------+\n",
            "only showing top 30 rows\n",
            "\n"
          ]
        }
      ]
    },
    {
      "cell_type": "code",
      "source": [
        "spotify_df.printSchema()"
      ],
      "metadata": {
        "id": "IrS7KacWH0ja",
        "outputId": "04ab7b41-b4ee-4155-cdaa-43b59c3d38e6",
        "colab": {
          "base_uri": "https://localhost:8080/"
        }
      },
      "execution_count": 38,
      "outputs": [
        {
          "output_type": "stream",
          "name": "stdout",
          "text": [
            "root\n",
            " |-- artist: string (nullable = true)\n",
            " |-- auth: string (nullable = true)\n",
            " |-- firstName: string (nullable = true)\n",
            " |-- gender: string (nullable = true)\n",
            " |-- itemInSession: long (nullable = true)\n",
            " |-- lastName: string (nullable = true)\n",
            " |-- length: double (nullable = true)\n",
            " |-- level: string (nullable = true)\n",
            " |-- location: string (nullable = true)\n",
            " |-- method: string (nullable = true)\n",
            " |-- page: string (nullable = true)\n",
            " |-- registration: long (nullable = true)\n",
            " |-- sessionId: long (nullable = true)\n",
            " |-- song: string (nullable = true)\n",
            " |-- status: long (nullable = true)\n",
            " |-- ts: long (nullable = true)\n",
            " |-- userAgent: string (nullable = true)\n",
            " |-- userId: string (nullable = true)\n",
            "\n"
          ]
        }
      ]
    },
    {
      "cell_type": "code",
      "source": [
        "print((spotify_df.count(), len(spotify_df.columns)))"
      ],
      "metadata": {
        "colab": {
          "base_uri": "https://localhost:8080/"
        },
        "id": "Wu6fO0OIrqM2",
        "outputId": "af6e09ba-3eb9-4841-9c53-b5c5a4fb6ea7"
      },
      "execution_count": 39,
      "outputs": [
        {
          "output_type": "stream",
          "name": "stdout",
          "text": [
            "(286500, 18)\n"
          ]
        }
      ]
    },
    {
      "cell_type": "code",
      "source": [
        "spotify_df.describe().show()"
      ],
      "metadata": {
        "colab": {
          "base_uri": "https://localhost:8080/"
        },
        "id": "eLKGatR6MmmX",
        "outputId": "678f81fe-4af7-4e61-e313-6ee1e0c31140"
      },
      "execution_count": 40,
      "outputs": [
        {
          "output_type": "stream",
          "name": "stdout",
          "text": [
            "+-------+------------------+----------+---------+------+------------------+--------+------------------+------+-----------------+------+-------+--------------------+-----------------+--------------------+------------------+--------------------+--------------------+------------------+\n",
            "|summary|            artist|      auth|firstName|gender|     itemInSession|lastName|            length| level|         location|method|   page|        registration|        sessionId|                song|            status|                  ts|           userAgent|            userId|\n",
            "+-------+------------------+----------+---------+------+------------------+--------+------------------+------+-----------------+------+-------+--------------------+-----------------+--------------------+------------------+--------------------+--------------------+------------------+\n",
            "|  count|            228108|    286500|   278154|278154|            286500|  278154|            228108|286500|           278154|286500| 286500|              278154|           286500|              228108|            286500|              286500|              278154|            286500|\n",
            "|   mean| 551.0852017937219|      null|     null|  null|114.41421291448516|    null|249.11718197783662|  null|             null|  null|   null|1.535358834085650...|1041.526554973822|            Infinity|210.05459685863875|1.540956889810432E12|                null| 59682.02278593872|\n",
            "| stddev|1217.7693079161374|      null|     null|  null|129.76726201141042|    null| 99.23517921058307|  null|             null|  null|   null|  3.29132161632862E9|726.7762634630783|                 NaN|31.505078488422217| 1.507543960818767E9|                null|109091.94999910527|\n",
            "|    min|               !!!| Cancelled| Adelaida|     F|                 0|   Adams|           0.78322|  free|       Albany, OR|   GET|  About|       1521380675000|                1|\u001cÃÂg ÃÂtti Gr...|               200|       1538352117000|\"Mozilla/5.0 (Mac...|                  |\n",
            "|    max| ÃÂlafur Arnalds|Logged Out|   Zyonna|     M|              1321|  Wright|        3024.66567|  paid|Winston-Salem, NC|   PUT|Upgrade|       1543247354000|             2474|ÃÂau hafa slopp...|               404|       1543799476000|Mozilla/5.0 (comp...|                99|\n",
            "+-------+------------------+----------+---------+------+------------------+--------+------------------+------+-----------------+------+-------+--------------------+-----------------+--------------------+------------------+--------------------+--------------------+------------------+\n",
            "\n"
          ]
        }
      ]
    },
    {
      "cell_type": "markdown",
      "source": [
        "Missing Values\n"
      ],
      "metadata": {
        "id": "NXcSvqXZkYX7"
      }
    },
    {
      "cell_type": "code",
      "source": [
        "spotify_df.select(\"page\").dropDuplicates().sort(\"page\").show()"
      ],
      "metadata": {
        "colab": {
          "base_uri": "https://localhost:8080/"
        },
        "id": "zYvjm7E0R89k",
        "outputId": "c27f35d0-0f84-4c21-dad3-0b9207e1a8c7"
      },
      "execution_count": 41,
      "outputs": [
        {
          "output_type": "stream",
          "name": "stdout",
          "text": [
            "+--------------------+\n",
            "|                page|\n",
            "+--------------------+\n",
            "|               About|\n",
            "|          Add Friend|\n",
            "|     Add to Playlist|\n",
            "|              Cancel|\n",
            "|Cancellation Conf...|\n",
            "|           Downgrade|\n",
            "|               Error|\n",
            "|                Help|\n",
            "|                Home|\n",
            "|               Login|\n",
            "|              Logout|\n",
            "|            NextSong|\n",
            "|            Register|\n",
            "|         Roll Advert|\n",
            "|       Save Settings|\n",
            "|            Settings|\n",
            "|    Submit Downgrade|\n",
            "| Submit Registration|\n",
            "|      Submit Upgrade|\n",
            "|         Thumbs Down|\n",
            "+--------------------+\n",
            "only showing top 20 rows\n",
            "\n"
          ]
        }
      ]
    },
    {
      "cell_type": "code",
      "source": [
        "from pyspark.sql.functions import udf, col, count, avg, stddev, isnull, when, isnan \n",
        "\n",
        "def counting_null(spotify_df):\n",
        "    \n",
        "    null_count = list()\n",
        "    for col in spotify_df.columns:\n",
        "        missing_values = spotify_df.filter((spotify_df[col] == \"\") \\\n",
        "                                   | spotify_df[col].isNull()\n",
        "                                   | isnan(spotify_df[col])).count()\n",
        "        null_count.append(missing_values)\n",
        "    return null_count"
      ],
      "metadata": {
        "id": "xxWmZpquiEmY"
      },
      "execution_count": 42,
      "outputs": []
    },
    {
      "cell_type": "code",
      "source": [
        "def sumtable(spotify_df):\n",
        "    summary = spotify_df.describe().toPandas().transpose()\n",
        "    summary = summary.rename(columns=summary.iloc[0]).drop(summary.index[0])\n",
        "    summary['null_count'] = counting_null(spotify_df)\n",
        "    del spotify_df\n",
        "    \n",
        "    return summary"
      ],
      "metadata": {
        "id": "SECNupZ5BRLC"
      },
      "execution_count": 43,
      "outputs": []
    },
    {
      "cell_type": "code",
      "source": [
        "df_clean = spotify_df.dropna(how = \"any\", subset = [\"userId\", \"sessionId\"])\n",
        "df_clean = df_clean.filter(spotify_df[\"userId\"] != \"\") # `userId` should not be empty string\n"
      ],
      "metadata": {
        "id": "BKnEyuguBrBa"
      },
      "execution_count": 44,
      "outputs": []
    },
    {
      "cell_type": "code",
      "source": [
        "#print(\"df:{}\".format(spotify_df.count()))\n",
        "#print(\"df_without_missing_id: {}\".format(df_clean.count())) # no missing values\n",
        "\n",
        "#if spotify_df.count() == df_clean.count():\n",
        "#    print(\"No missing values with userId and sessionId\")\n",
        "#else:\n",
        "#    print(\"{} rows have been removed.\".format(spotify_df.count() - df_clean.count()))"
      ],
      "metadata": {
        "id": "NJHYopE2IbM1"
      },
      "execution_count": 45,
      "outputs": []
    },
    {
      "cell_type": "code",
      "source": [
        "# Get the count of rows in the original dataset\n",
        "df_count = spotify_df.count()\n",
        "\n",
        "# Get the count of rows in the cleaned dataset\n",
        "clean_count = df_clean.count()\n",
        "print(\"count_without_missing_id: {}\".format(clean_count))\n",
        "# Check if both counts are equal\n",
        "if df_count == clean_count:\n",
        "    print(\"No missing values with userId and sessionId\")\n",
        "else:\n",
        "    # Find the difference in rows between the two datasets\n",
        "    diff_df = spotify_df.exceptAll(df_clean)\n",
        "    diff_count = diff_df.count()\n",
        "    print(\"{} rows have been removed.\".format(diff_count))\n"
      ],
      "metadata": {
        "colab": {
          "base_uri": "https://localhost:8080/"
        },
        "id": "s0gHp1LkJAW9",
        "outputId": "a93b7cb5-c357-4e6a-f203-d54fd20fafea"
      },
      "execution_count": 46,
      "outputs": [
        {
          "output_type": "stream",
          "name": "stdout",
          "text": [
            "count_without_missing_id: 278154\n",
            "8346 rows have been removed.\n"
          ]
        }
      ]
    },
    {
      "cell_type": "code",
      "source": [
        "#spotify_df = spotify_df.fillna(\"None\", subset=[\"artist\", \"song\"])\n",
        "#spotify_df = spotify_df.fillna(0, subset=[\"length\"])\n",
        "#spotify_df"
      ],
      "metadata": {
        "id": "WCEBztT9FNe0"
      },
      "execution_count": 47,
      "outputs": []
    },
    {
      "cell_type": "code",
      "source": [
        "from pyspark.sql.functions import when\n",
        "\n",
        "spotify_df = spotify_df.withColumn(\"artist\", when(spotify_df[\"artist\"].isNull(), \"None\").otherwise(spotify_df[\"artist\"]))\n",
        "spotify_df = spotify_df.withColumn(\"song\", when(spotify_df[\"song\"].isNull(), \"None\").otherwise(spotify_df[\"song\"]))\n",
        "spotify_df = spotify_df.withColumn(\"length\", when(spotify_df[\"length\"].isNull(), 0).otherwise(spotify_df[\"length\"]))\n",
        "spotify_df"
      ],
      "metadata": {
        "colab": {
          "base_uri": "https://localhost:8080/"
        },
        "id": "1GjoXC1QJ6tq",
        "outputId": "c23e8cc6-eb03-40c7-d31f-5bb9665eb3b7"
      },
      "execution_count": 48,
      "outputs": [
        {
          "output_type": "execute_result",
          "data": {
            "text/plain": [
              "DataFrame[artist: string, auth: string, firstName: string, gender: string, itemInSession: bigint, lastName: string, length: double, level: string, location: string, method: string, page: string, registration: bigint, sessionId: bigint, song: string, status: bigint, ts: bigint, userAgent: string, userId: string]"
            ]
          },
          "metadata": {},
          "execution_count": 48
        }
      ]
    },
    {
      "cell_type": "code",
      "source": [
        "spotify_df.printSchema()"
      ],
      "metadata": {
        "colab": {
          "base_uri": "https://localhost:8080/"
        },
        "id": "y7b1xbQg_MfB",
        "outputId": "356450e8-7422-4bcb-ea9c-c9a95e774f1f"
      },
      "execution_count": 49,
      "outputs": [
        {
          "output_type": "stream",
          "name": "stdout",
          "text": [
            "root\n",
            " |-- artist: string (nullable = true)\n",
            " |-- auth: string (nullable = true)\n",
            " |-- firstName: string (nullable = true)\n",
            " |-- gender: string (nullable = true)\n",
            " |-- itemInSession: long (nullable = true)\n",
            " |-- lastName: string (nullable = true)\n",
            " |-- length: double (nullable = true)\n",
            " |-- level: string (nullable = true)\n",
            " |-- location: string (nullable = true)\n",
            " |-- method: string (nullable = true)\n",
            " |-- page: string (nullable = true)\n",
            " |-- registration: long (nullable = true)\n",
            " |-- sessionId: long (nullable = true)\n",
            " |-- song: string (nullable = true)\n",
            " |-- status: long (nullable = true)\n",
            " |-- ts: long (nullable = true)\n",
            " |-- userAgent: string (nullable = true)\n",
            " |-- userId: string (nullable = true)\n",
            "\n"
          ]
        }
      ]
    },
    {
      "cell_type": "code",
      "source": [
        "spotify_df.show(10)"
      ],
      "metadata": {
        "colab": {
          "base_uri": "https://localhost:8080/"
        },
        "id": "isUn2mnzQf6i",
        "outputId": "f79ba34b-65d7-45d6-ef91-2a792872bf84"
      },
      "execution_count": 50,
      "outputs": [
        {
          "output_type": "stream",
          "name": "stdout",
          "text": [
            "+--------------------+---------+---------+------+-------------+--------+---------+-----+--------------------+------+---------------+-------------+---------+--------------------+------+-------------+--------------------+------+\n",
            "|              artist|     auth|firstName|gender|itemInSession|lastName|   length|level|            location|method|           page| registration|sessionId|                song|status|           ts|           userAgent|userId|\n",
            "+--------------------+---------+---------+------+-------------+--------+---------+-----+--------------------+------+---------------+-------------+---------+--------------------+------+-------------+--------------------+------+\n",
            "|      Martha Tilston|Logged In|    Colin|     M|           50| Freeman|277.89016| paid|     Bakersfield, CA|   PUT|       NextSong|1538173362000|       29|           Rockpools|   200|1538352117000|Mozilla/5.0 (Wind...|    30|\n",
            "|    Five Iron Frenzy|Logged In|    Micah|     M|           79|    Long|236.09424| free|Boston-Cambridge-...|   PUT|       NextSong|1538331630000|        8|              Canada|   200|1538352180000|\"Mozilla/5.0 (Win...|     9|\n",
            "|        Adam Lambert|Logged In|    Colin|     M|           51| Freeman| 282.8273| paid|     Bakersfield, CA|   PUT|       NextSong|1538173362000|       29|   Time For Miracles|   200|1538352394000|Mozilla/5.0 (Wind...|    30|\n",
            "|              Enigma|Logged In|    Micah|     M|           80|    Long|262.71302| free|Boston-Cambridge-...|   PUT|       NextSong|1538331630000|        8|Knocking On Forbi...|   200|1538352416000|\"Mozilla/5.0 (Win...|     9|\n",
            "|           Daft Punk|Logged In|    Colin|     M|           52| Freeman|223.60771| paid|     Bakersfield, CA|   PUT|       NextSong|1538173362000|       29|Harder Better Fas...|   200|1538352676000|Mozilla/5.0 (Wind...|    30|\n",
            "|The All-American ...|Logged In|    Micah|     M|           81|    Long|208.29995| free|Boston-Cambridge-...|   PUT|       NextSong|1538331630000|        8|      Don't Leave Me|   200|1538352678000|\"Mozilla/5.0 (Win...|     9|\n",
            "|The Velvet Underg...|Logged In|    Micah|     M|           82|    Long|260.46649| free|Boston-Cambridge-...|   PUT|       NextSong|1538331630000|        8|         Run Run Run|   200|1538352886000|\"Mozilla/5.0 (Win...|     9|\n",
            "|        Starflyer 59|Logged In|    Colin|     M|           53| Freeman|185.44281| paid|     Bakersfield, CA|   PUT|       NextSong|1538173362000|       29|Passengers (Old A...|   200|1538352899000|Mozilla/5.0 (Wind...|    30|\n",
            "|                None|Logged In|    Colin|     M|           54| Freeman|      0.0| paid|     Bakersfield, CA|   PUT|Add to Playlist|1538173362000|       29|                None|   200|1538352905000|Mozilla/5.0 (Wind...|    30|\n",
            "|            Frumpies|Logged In|    Colin|     M|           55| Freeman|134.47791| paid|     Bakersfield, CA|   PUT|       NextSong|1538173362000|       29|          Fuck Kitty|   200|1538353084000|Mozilla/5.0 (Wind...|    30|\n",
            "+--------------------+---------+---------+------+-------------+--------+---------+-----+--------------------+------+---------------+-------------+---------+--------------------+------+-------------+--------------------+------+\n",
            "only showing top 10 rows\n",
            "\n"
          ]
        }
      ]
    },
    {
      "cell_type": "code",
      "source": [
        "spotify_df.select(\"page\").distinct().show()"
      ],
      "metadata": {
        "colab": {
          "base_uri": "https://localhost:8080/"
        },
        "id": "nqKYcRs17F4D",
        "outputId": "995633fa-08d0-4fb1-e004-302c3358d885"
      },
      "execution_count": 51,
      "outputs": [
        {
          "output_type": "stream",
          "name": "stdout",
          "text": [
            "+--------------------+\n",
            "|                page|\n",
            "+--------------------+\n",
            "|              Cancel|\n",
            "|    Submit Downgrade|\n",
            "|         Thumbs Down|\n",
            "|                Home|\n",
            "|           Downgrade|\n",
            "|         Roll Advert|\n",
            "|              Logout|\n",
            "|       Save Settings|\n",
            "|Cancellation Conf...|\n",
            "|               About|\n",
            "| Submit Registration|\n",
            "|            Settings|\n",
            "|               Login|\n",
            "|            Register|\n",
            "|     Add to Playlist|\n",
            "|          Add Friend|\n",
            "|            NextSong|\n",
            "|           Thumbs Up|\n",
            "|                Help|\n",
            "|             Upgrade|\n",
            "+--------------------+\n",
            "only showing top 20 rows\n",
            "\n"
          ]
        }
      ]
    },
    {
      "cell_type": "code",
      "source": [
        "from pyspark.sql.functions import when, col\n",
        "spotify_df.filter(col(\"page\") == \"Cancellation Confirmation\" ). \\\n",
        "    select(\"userId\").distinct().count()"
      ],
      "metadata": {
        "colab": {
          "base_uri": "https://localhost:8080/"
        },
        "id": "U7q3UByt8KiO",
        "outputId": "32f6fa7e-1662-4515-b346-68b3b1938aae"
      },
      "execution_count": 52,
      "outputs": [
        {
          "output_type": "execute_result",
          "data": {
            "text/plain": [
              "52"
            ]
          },
          "metadata": {},
          "execution_count": 52
        }
      ]
    },
    {
      "cell_type": "code",
      "source": [
        "from pyspark.sql import SparkSession, Window\n",
        "from pyspark.sql.functions import sum as Fsum\n",
        "from pyspark.sql.types import IntegerType, DateType, StringType\n",
        "\n",
        "is_cancellation = udf(lambda x: 1 if x == \"Cancellation Confirmation\" else 0, IntegerType())\n",
        "\n",
        "customer_event_df = spotify_df.withColumn(\"churn\", is_cancellation(\"page\"))\n",
        "\n",
        "window_func = Window.partitionBy(\"userId\").rangeBetween(Window.unboundedPreceding,\n",
        "                                                        Window.unboundedFollowing)\n",
        "customer_event_df = customer_event_df.withColumn(\"churn\", Fsum(\"churn\").over(window_func))"
      ],
      "metadata": {
        "id": "b04n0FAg9JZL"
      },
      "execution_count": 53,
      "outputs": []
    },
    {
      "cell_type": "code",
      "source": [
        "spotify_df.filter(\"page = 'Cancellation Confirmation'\").show(10)"
      ],
      "metadata": {
        "colab": {
          "base_uri": "https://localhost:8080/"
        },
        "id": "SnQ_SG4JkrrH",
        "outputId": "89977bb3-cc8b-4b83-97e8-8c669602a5fc"
      },
      "execution_count": 54,
      "outputs": [
        {
          "output_type": "stream",
          "name": "stdout",
          "text": [
            "+------+---------+---------+------+-------------+--------+------+-----+--------------------+------+--------------------+-------------+---------+----+------+-------------+--------------------+------+\n",
            "|artist|     auth|firstName|gender|itemInSession|lastName|length|level|            location|method|                page| registration|sessionId|song|status|           ts|           userAgent|userId|\n",
            "+------+---------+---------+------+-------------+--------+------+-----+--------------------+------+--------------------+-------------+---------+----+------+-------------+--------------------+------+\n",
            "|  None|Cancelled|   Adriel|     M|          104| Mendoza|   0.0| paid|  Kansas City, MO-KS|   GET|Cancellation Conf...|1535623466000|      514|None|   200|1538943990000|\"Mozilla/5.0 (Mac...|    18|\n",
            "|  None|Cancelled|    Diego|     M|           56|   Mckee|   0.0| paid|Phoenix-Mesa-Scot...|   GET|Cancellation Conf...|1537167593000|      540|None|   200|1539033046000|\"Mozilla/5.0 (iPh...|    32|\n",
            "|  None|Cancelled|    Mason|     M|           10|    Hart|   0.0| free|  Corpus Christi, TX|   GET|Cancellation Conf...|1533157139000|      174|None|   200|1539318918000|\"Mozilla/5.0 (Mac...|   125|\n",
            "|  None|Cancelled|Alexander|     M|          332|  Garcia|   0.0| paid|Indianapolis-Carm...|   GET|Cancellation Conf...|1536817381000|      508|None|   200|1539375441000|Mozilla/5.0 (Wind...|   105|\n",
            "|  None|Cancelled|    Kayla|     F|          273| Johnson|   0.0| paid|Philadelphia-Camd...|   GET|Cancellation Conf...|1538333829000|      797|None|   200|1539465584000|Mozilla/5.0 (Wind...|    17|\n",
            "|  None|Cancelled|    Molly|     F|           29|Harrison|   0.0| free|Virginia Beach-No...|   GET|Cancellation Conf...|1534255113000|      843|None|   200|1539588854000|\"Mozilla/5.0 (Mac...|   143|\n",
            "|  None|Cancelled|     Alex|     M|          145|   Hogan|   0.0| paid|Denver-Aurora-Lak...|   GET|Cancellation Conf...|1535066380000|      842|None|   200|1539729037000|Mozilla/5.0 (Wind...|   101|\n",
            "|  None|Cancelled|    Davis|     M|           34|    Wang|   0.0| paid|           Flint, MI|   GET|Cancellation Conf...|1538289776000|      802|None|   200|1539736161000|\"Mozilla/5.0 (Win...|   129|\n",
            "|  None|Cancelled|  Nikolas|     M|          287|   Olsen|   0.0| paid|Oxnard-Thousand O...|   GET|Cancellation Conf...|1528403713000|      881|None|   200|1539759749000|Mozilla/5.0 (X11;...|   121|\n",
            "|  None|Cancelled|    Ethan|     M|          176| Johnson|   0.0| paid|Lexington-Fayette...|   GET|Cancellation Conf...|1538080987000|      934|None|   200|1539761972000|\"Mozilla/5.0 (Win...|    51|\n",
            "+------+---------+---------+------+-------------+--------+------+-----+--------------------+------+--------------------+-------------+---------+----+------+-------------+--------------------+------+\n",
            "only showing top 10 rows\n",
            "\n"
          ]
        }
      ]
    },
    {
      "cell_type": "code",
      "source": [
        "#flag_churned_event = udf(lambda x: 1 if x == \"Cancellation Confirmation\" else 0, IntegerType())\n",
        "#df_churned = spotify_df.withColumn(\"churned\", flag_churned_event(\"page\"))"
      ],
      "metadata": {
        "id": "dD53Dz34kroS"
      },
      "execution_count": 55,
      "outputs": []
    },
    {
      "cell_type": "code",
      "source": [
        "from pyspark.sql.functions import when\n",
        "\n",
        "df_churned = spotify_df.withColumn(\"churned\", when(spotify_df.page == \"Cancellation Confirmation\", 1).otherwise(0))\n"
      ],
      "metadata": {
        "id": "OB5xPbiALChg"
      },
      "execution_count": 56,
      "outputs": []
    },
    {
      "cell_type": "code",
      "source": [
        "print((df_churned.count(), len(df_churned.columns)))"
      ],
      "metadata": {
        "colab": {
          "base_uri": "https://localhost:8080/"
        },
        "id": "BZ6E07_MVZF2",
        "outputId": "6e6a5b53-d5b8-49dc-98b0-981136fcd749"
      },
      "execution_count": 57,
      "outputs": [
        {
          "output_type": "stream",
          "name": "stdout",
          "text": [
            "(286500, 19)\n"
          ]
        }
      ]
    },
    {
      "cell_type": "code",
      "source": [
        "#from pyspark.sql.functions import when\n",
        "\n",
        "#df_churned = spotify_df.withColumn(\"churned\", when(col(\"page\") == \"Cancellation Confirmation\", 1).otherwise(0))\n"
      ],
      "metadata": {
        "id": "8dFS5_7XRjlU"
      },
      "execution_count": 58,
      "outputs": []
    },
    {
      "cell_type": "code",
      "source": [
        "#churned_rate(from total event logs)\n",
        "#churned_rate = df_churned.groupby(\"userId\").agg({\"churned\": \"sum\"}).select(avg(\"sum(churned)\")).collect()[0][\"avg(sum(churned))\"]\n",
        "#print(\"churned: {:.2f}%\".format(churned_rate * 100))"
      ],
      "metadata": {
        "id": "GWqlnVkukrlo"
      },
      "execution_count": 59,
      "outputs": []
    },
    {
      "cell_type": "code",
      "source": [
        "#from pyspark.sql.functions import expr\n",
        "\n",
        "#churned_rate = df_churned.selectExpr(\"avg(CASE WHEN page = 'Cancellation Confirmation' THEN 1 ELSE 0 END) as churned_rate\").collect()[0][\"churned_rate\"]\n",
        "#print(\"churned: {:.2f}%\".format(churned_rate * 100))\n",
        "\n",
        "\n",
        "#churned_rate = df_churned.groupBy(\"userId\").agg({\"churned\": \"max\"}).agg({\"max(churned)\": \"mean\"}).collect()[0][\"avg(max(churned))\"]\n",
        "#print(\"churned: {:.2f}%\".format(churned_rate * 100))\n",
        "\n"
      ],
      "metadata": {
        "id": "Uuavh6pcRx9W"
      },
      "execution_count": 60,
      "outputs": []
    },
    {
      "cell_type": "code",
      "source": [
        "churned_users = df_churned.filter(df_churned.page == \"Cancellation Confirmation\").select(\"userId\").distinct().count()\n",
        "total_users = df_churned.select(\"userId\").distinct().count()\n",
        "\n",
        "churned_rate = churned_users / total_users\n",
        "\n",
        "print(\"churned: {:.2f}%\".format(churned_rate * 100))\n"
      ],
      "metadata": {
        "colab": {
          "base_uri": "https://localhost:8080/"
        },
        "id": "xlGMifOpLWyu",
        "outputId": "a65a1cb0-5536-433f-b565-6856d86487e7"
      },
      "execution_count": 61,
      "outputs": [
        {
          "output_type": "stream",
          "name": "stdout",
          "text": [
            "churned: 23.01%\n"
          ]
        }
      ]
    },
    {
      "cell_type": "code",
      "source": [
        "df_churned.select([\"userId\", \"gender\", \"level\", \"page\", \"status\", \"ts\", \"churned\"]).show(30)"
      ],
      "metadata": {
        "colab": {
          "base_uri": "https://localhost:8080/"
        },
        "id": "NXolbwT8krir",
        "outputId": "60e38b93-1dd6-4636-b37a-90128df5b961"
      },
      "execution_count": 62,
      "outputs": [
        {
          "output_type": "stream",
          "name": "stdout",
          "text": [
            "+------+------+-----+---------------+------+-------------+-------+\n",
            "|userId|gender|level|           page|status|           ts|churned|\n",
            "+------+------+-----+---------------+------+-------------+-------+\n",
            "|    30|     M| paid|       NextSong|   200|1538352117000|      0|\n",
            "|     9|     M| free|       NextSong|   200|1538352180000|      0|\n",
            "|    30|     M| paid|       NextSong|   200|1538352394000|      0|\n",
            "|     9|     M| free|       NextSong|   200|1538352416000|      0|\n",
            "|    30|     M| paid|       NextSong|   200|1538352676000|      0|\n",
            "|     9|     M| free|       NextSong|   200|1538352678000|      0|\n",
            "|     9|     M| free|       NextSong|   200|1538352886000|      0|\n",
            "|    30|     M| paid|       NextSong|   200|1538352899000|      0|\n",
            "|    30|     M| paid|Add to Playlist|   200|1538352905000|      0|\n",
            "|    30|     M| paid|       NextSong|   200|1538353084000|      0|\n",
            "|     9|     M| free|       NextSong|   200|1538353146000|      0|\n",
            "|     9|     M| free|    Roll Advert|   200|1538353150000|      0|\n",
            "|    30|     M| paid|       NextSong|   200|1538353218000|      0|\n",
            "|     9|     M| free|       NextSong|   200|1538353375000|      0|\n",
            "|     9|     M| free|      Thumbs Up|   307|1538353376000|      0|\n",
            "|    30|     M| paid|       NextSong|   200|1538353441000|      0|\n",
            "|     9|     M| free|       NextSong|   200|1538353576000|      0|\n",
            "|    74|     F| free|       NextSong|   200|1538353668000|      0|\n",
            "|    30|     M| paid|       NextSong|   200|1538353687000|      0|\n",
            "|     9|     M| free|       NextSong|   200|1538353744000|      0|\n",
            "|    74|     F| free|       NextSong|   200|1538353834000|      0|\n",
            "|    30|     M| paid|       NextSong|   200|1538353909000|      0|\n",
            "|    54|     F| paid|       NextSong|   200|1538353930000|      0|\n",
            "|     9|     M| free|       NextSong|   200|1538353973000|      0|\n",
            "|    74|     F| free|       NextSong|   200|1538354117000|      0|\n",
            "|    30|     M| paid|       NextSong|   200|1538354132000|      0|\n",
            "|    54|     F| paid|       NextSong|   200|1538354180000|      0|\n",
            "|     9|     M| free|       NextSong|   200|1538354204000|      0|\n",
            "|    74|     F| free|       NextSong|   200|1538354291000|      0|\n",
            "|    30|     M| paid|       NextSong|   200|1538354365000|      0|\n",
            "+------+------+-----+---------------+------+-------------+-------+\n",
            "only showing top 30 rows\n",
            "\n"
          ]
        }
      ]
    },
    {
      "cell_type": "code",
      "source": [
        "#from pyspark.sql.functions import asc\n",
        "#from pyspark.sql.functions import sum as Fsum\n",
        "#from pyspark.sql.window import Window\n",
        "#from pyspark.sql.functions import max as Fmax\n",
        "#from pyspark.sql.functions import min as Fmin\n",
        "\n",
        "#windowval = Window.partitionBy(\"userId\").orderBy(asc(\"ts\")).rangeBetween(Window.unboundedPreceding, 0)\n",
        "#df_phase = df_churned.withColumn(\"phase\", Fsum('churned').over(windowval))\n",
        "\n",
        "#df_churn = df_phase.withColumn(\"churn\", Fmax('churned').over(Window.partitionBy(\"userId\")))"
      ],
      "metadata": {
        "id": "zpy5qLzfkrfz"
      },
      "execution_count": 63,
      "outputs": []
    },
    {
      "cell_type": "code",
      "source": [
        "from pyspark.sql.functions import asc\n",
        "from pyspark.sql.functions import sum as Fsum\n",
        "from pyspark.sql.window import Window\n",
        "from pyspark.sql.functions import max as Fmax\n",
        "from pyspark.sql.functions import min as Fmin\n",
        "\n",
        "window_spec = Window.partitionBy(\"userId\").orderBy(asc(\"ts\")).rangeBetween(Window.unboundedPreceding, 0)\n",
        "df_phase = df_churned.withColumn(\"phase\", Fsum('churned').over(window_spec))\n",
        "\n",
        "df_churn = df_phase.withColumn(\"churn\", Fmax('churned').over(Window.partitionBy(\"userId\")))\n",
        "\n",
        "#churned_users = df_churn.filter(df_churn.churn == 1).count()\n",
        "#total_users = df_churn.select(\"userId\").distinct().count()\n",
        "\n",
        "#print(\"Number of churned users: {}\".format(churned_users))\n",
        "#print(\"Total number of users: {}\".format(total_users))"
      ],
      "metadata": {
        "id": "Zt34EJljL7U9"
      },
      "execution_count": 64,
      "outputs": []
    },
    {
      "cell_type": "code",
      "source": [
        "#from pyspark.sql.functions import col, sum as fsum, max as fmax, when\n",
        "#from pyspark.sql.window import Window\n",
        "# define the churn window\n",
        "#windowval = Window.partitionBy(\"userId\").orderBy(\"ts\").rangeBetween(Window.unboundedPreceding, 0)\n",
        "\n",
        "# create a column for the churn phase\n",
        "#df_phase = df_churned.select(\"userId\", \"gender\", \"level\", \"page\", \"status\", \"ts\", \"churned\",\n",
        " #                            fsum(when(col(\"churned\") == 1, 1).otherwise(0)).over(windowval).alias(\"phase\"))\n",
        "\n",
        "# create a column for the churn label\n",
        "#df_churn = df_phase.select(\"userId\", \"gender\", \"level\", \"page\", \"status\", \"ts\", \"churned\", \"phase\",\n",
        "  #                         fmax(col(\"churned\")).over(Window.partitionBy(\"userId\")).alias(\"churn\"))\n",
        "\n",
        "# show the resulting dataframe\n",
        "#df_churn.show(20)\n"
      ],
      "metadata": {
        "id": "wlIWv7B2Vmfr"
      },
      "execution_count": 65,
      "outputs": []
    },
    {
      "cell_type": "code",
      "source": [
        "df_churn.select([\"userId\", \"gender\", \"level\", \"page\", \"status\", \"ts\", \"churned\", \"phase\", \"churn\"]).show(20)"
      ],
      "metadata": {
        "colab": {
          "base_uri": "https://localhost:8080/"
        },
        "id": "Vpf_XhJMkrdC",
        "outputId": "a796a751-6c01-46c2-d19c-6c5c2e810c78"
      },
      "execution_count": 66,
      "outputs": [
        {
          "output_type": "stream",
          "name": "stdout",
          "text": [
            "+------+------+-----+---------------+------+-------------+-------+-----+-----+\n",
            "|userId|gender|level|           page|status|           ts|churned|phase|churn|\n",
            "+------+------+-----+---------------+------+-------------+-------+-----+-----+\n",
            "|   100|     M| paid|       NextSong|   200|1538492662000|      0|    0|    0|\n",
            "|   100|     M| paid|       NextSong|   200|1538492899000|      0|    0|    0|\n",
            "|   100|     M| paid|    Thumbs Down|   307|1538492900000|      0|    0|    0|\n",
            "|   100|     M| paid|       NextSong|   200|1538493138000|      0|    0|    0|\n",
            "|   100|     M| paid|       NextSong|   200|1538493545000|      0|    0|    0|\n",
            "|   100|     M| paid|       NextSong|   200|1538493817000|      0|    0|    0|\n",
            "|   100|     M| paid|       NextSong|   200|1538493984000|      0|    0|    0|\n",
            "|   100|     M| paid|       NextSong|   200|1538494349000|      0|    0|    0|\n",
            "|   100|     M| paid|Add to Playlist|   200|1538494374000|      0|    0|    0|\n",
            "|   100|     M| paid|       NextSong|   200|1538494606000|      0|    0|    0|\n",
            "|   100|     M| paid|       NextSong|   200|1538494866000|      0|    0|    0|\n",
            "|   100|     M| paid|       NextSong|   200|1538495034000|      0|    0|    0|\n",
            "|   100|     M| paid|       NextSong|   200|1538495347000|      0|    0|    0|\n",
            "|   100|     M| paid|       NextSong|   200|1538495572000|      0|    0|    0|\n",
            "|   100|     M| paid|       NextSong|   200|1538495834000|      0|    0|    0|\n",
            "|   100|     M| paid|       NextSong|   200|1538496136000|      0|    0|    0|\n",
            "|   100|     M| paid|       NextSong|   200|1538496466000|      0|    0|    0|\n",
            "|   100|     M| paid|       NextSong|   200|1538496712000|      0|    0|    0|\n",
            "|   100|     M| paid|       NextSong|   200|1538496884000|      0|    0|    0|\n",
            "|   100|     M| paid|       NextSong|   200|1538497232000|      0|    0|    0|\n",
            "+------+------+-----+---------------+------+-------------+-------+-----+-----+\n",
            "only showing top 20 rows\n",
            "\n"
          ]
        }
      ]
    },
    {
      "cell_type": "code",
      "source": [
        "d1 = df_churn.filter(df_churn[\"churn\"] == 1).select([\"userId\", \"gender\", \"level\", \"page\", \"status\", \"ts\", \"churned\", \"phase\", \"churn\"])\n",
        "print((d1.count(), len(d1.columns)))"
      ],
      "metadata": {
        "colab": {
          "base_uri": "https://localhost:8080/"
        },
        "id": "fA_XriQMkrae",
        "outputId": "46c15a53-748e-4dea-a48d-7b72e0e0a8f8"
      },
      "execution_count": 67,
      "outputs": [
        {
          "output_type": "stream",
          "name": "stdout",
          "text": [
            "(44864, 9)\n"
          ]
        }
      ]
    },
    {
      "cell_type": "code",
      "source": [
        "#churned_user_count = df_churn.filter(df_churn[\"churn\"] == 1).select(\"userId\").dropDuplicates().count()\n",
        "#print(\"churned user count: {} (total: {})\".format(churned_user_count, df_churn.count()))\n",
        "#print(\"churned user rate: {:.2f}%\".format(churned_user_count / df_churn.count() * 100))\n",
        "\n",
        "#from pyspark.sql.functions import col\n",
        "\n",
        "#churned_user_count = df_churn.filter(col(\"churn\") == 1).select(\"userId\").distinct().count()\n",
        "#total_user_count = clean_count.select(\"userId\").distinct().count()\n",
        "#churn_rate = churned_user_count / total_user_count * 100\n",
        "#print(\"churned user count: {} (total: {})\".format(churned_user_count, total_user_count))\n",
        "#print(\"churned user rate: {:.2f}%\".format(churn_rate))\n",
        "\n",
        "\n",
        "#from pyspark.sql.functions import col\n",
        "\n",
        "#churned_user_count = df_churn.filter(col(\"churn\") == 1).select(\"userId\").distinct().count()\n",
        "#total_user_count = df_clean.select(\"userId\").distinct().count()\n",
        "#churn_rate = churned_user_count / total_user_count * 100\n",
        "#print(\"churned user count: {} (total: {})\".format(churned_user_count, total_user_count))\n",
        "#print(\"churned user rate: {:.2f}%\".format(churn_rate))\n"
      ],
      "metadata": {
        "id": "pPxxteXIkrXE"
      },
      "execution_count": 68,
      "outputs": []
    },
    {
      "cell_type": "code",
      "source": [
        "churned_user_count = df_churn.filter(df_churn[\"churn\"] == 1).select(\"userId\").dropDuplicates().count()\n",
        "#total_user_count = df_churn.select(\"userId\").dropDuplicates().count()\n",
        "#total_user_count = df_churn.filter(col(\"page\") != \"Cancellation Confirmation\").count()\n",
        "print(\"churned user count: {} (total: {})\".format(churned_user_count, df_clean.count()))\n",
        "print(\"churned user rate: {:.2f}%\".format(churned_user_count / df_clean.count() * 100))\n",
        "\n"
      ],
      "metadata": {
        "colab": {
          "base_uri": "https://localhost:8080/"
        },
        "id": "U-VrsTFSWqDO",
        "outputId": "83d134c2-298f-40d1-b913-8131af66facc"
      },
      "execution_count": 69,
      "outputs": [
        {
          "output_type": "stream",
          "name": "stdout",
          "text": [
            "churned user count: 52 (total: 278154)\n",
            "churned user rate: 0.02%\n"
          ]
        }
      ]
    },
    {
      "cell_type": "code",
      "source": [
        "#What are the most popular songs by the artist in the dataset?\n",
        "\n",
        "import matplotlib.pyplot as plt\n",
        "\n",
        "song_df = spotify_df.filter(spotify_df.artist == \"Daft Punk\").groupBy(\"song\").count().sort(\"count\", ascending=False)\n",
        "\n",
        "# Get the top 10 songs\n",
        "top_songs = song_df.limit(10).toPandas()\n",
        "\n",
        "\n",
        "# Create a bar chart to display the top 10 songs\n",
        "colors = ['orange', 'blue']\n",
        "plt.bar(top_songs[\"song\"], top_songs[\"count\"], color=colors)\n",
        "plt.title(\"Top 10 Daft Punk Songs\")\n",
        "plt.xlabel(\"Song\")\n",
        "plt.ylabel(\"Count\")\n",
        "plt.xticks(rotation=90)\n",
        "plt.show()\n"
      ],
      "metadata": {
        "colab": {
          "base_uri": "https://localhost:8080/",
          "height": 823
        },
        "id": "YgNFQOvCQ1iq",
        "outputId": "87e2c635-1f9b-405e-c712-383b8238663d"
      },
      "execution_count": 70,
      "outputs": [
        {
          "output_type": "display_data",
          "data": {
            "text/plain": [
              "<Figure size 640x480 with 1 Axes>"
            ],
            "image/png": "[encoded data removed]"
          },
          "metadata": {}
        }
      ]
    },
    {
      "cell_type": "code",
      "source": [
        "#Which locations have the highest number of users listening to music?\n",
        "\n",
        "import matplotlib.pyplot as plt\n",
        "\n",
        "\n",
        "location_df = spotify_df.dropDuplicates([\"userId\"]).groupBy(\"location\").count().sort(\"count\", ascending=False)\n",
        "\n",
        "\n",
        "top_locations = location_df.limit(10).toPandas()\n",
        "\n",
        "colors = ['pink', 'blue']\n",
        "plt.bar(top_locations[\"location\"], top_locations[\"count\"],color=colors)\n",
        "plt.title(\"Top 10 Locations with Most Unique Users\")\n",
        "plt.xlabel(\"Location\")\n",
        "plt.ylabel(\"Count\")\n",
        "plt.xticks(rotation=90)\n",
        "plt.show()\n"
      ],
      "metadata": {
        "colab": {
          "base_uri": "https://localhost:8080/",
          "height": 785
        },
        "id": "Ba6brKoiS76m",
        "outputId": "0245fd22-3a67-4190-9878-8e89fdea7cf5"
      },
      "execution_count": 71,
      "outputs": [
        {
          "output_type": "display_data",
          "data": {
            "text/plain": [
              "<Figure size 640x480 with 1 Axes>"
            ],
            "image/png": "[encoded data removed]"
          },
          "metadata": {}
        }
      ]
    },
    {
      "cell_type": "code",
      "source": [
        "\n",
        "subscription_df = spotify_df.groupBy(\"level\").avg(\"length\")\n",
        "\n",
        "\n",
        "subscription_df = subscription_df.toPandas()\n",
        "\n",
        "colors = ['red', 'blue']\n",
        "plt.bar(subscription_df[\"level\"], subscription_df[\"avg(length)\"],color=colors)\n",
        "plt.title(\"Average Song Length by Subscription Type\")\n",
        "plt.xlabel(\"Subscription Type\")\n",
        "plt.ylabel(\"Average Song Length\")\n",
        "plt.show()\n"
      ],
      "metadata": {
        "colab": {
          "base_uri": "https://localhost:8080/",
          "height": 472
        },
        "id": "5tE5sVv9TbyT",
        "outputId": "a88b1ea5-4aa7-4c83-bbf1-308d3b9f627c"
      },
      "execution_count": 72,
      "outputs": [
        {
          "output_type": "display_data",
          "data": {
            "text/plain": [
              "<Figure size 640x480 with 1 Axes>"
            ],
            "image/png": "[encoded data removed]"
          },
          "metadata": {}
        }
      ]
    },
    {
      "cell_type": "code",
      "source": [
        "#How many unique users are there in the dataset and what is  their genders?\n",
        "\n",
        "import matplotlib.pyplot as plt\n",
        "\n",
        "# Create a DataFrame containing the user IDs and genders, drop duplicates to get unique users\n",
        "user_df = spotify_df.select([\"userId\", \"gender\"]).dropDuplicates()\n",
        "\n",
        "# Get the count of users by gender\n",
        "gender_counts = user_df.groupBy(\"gender\").count().toPandas()\n",
        "\n",
        "# Create a pie chart to display the distribution of genders among unique users\n",
        "plt.pie(gender_counts[\"count\"], labels=gender_counts[\"gender\"], autopct=\"%1.1f%%\")\n",
        "plt.title(\"Gender of the Unique Users\")\n",
        "plt.show()\n"
      ],
      "metadata": {
        "colab": {
          "base_uri": "https://localhost:8080/",
          "height": 428
        },
        "id": "LRXS4lG2UxIH",
        "outputId": "14becbee-abc0-4fb4-d966-0d05fd924b40"
      },
      "execution_count": 73,
      "outputs": [
        {
          "output_type": "display_data",
          "data": {
            "text/plain": [
              "<Figure size 640x480 with 1 Axes>"
            ],
            "image/png": "[encoded data removed]"
          },
          "metadata": {}
        }
      ]
    },
    {
      "cell_type": "code",
      "source": [
        "import matplotlib.pyplot as plt\n",
        "\n",
        "\n",
        "page_counts = spotify_df.groupBy(\"page\").count().orderBy(\"count\", ascending=False)\n",
        "\n",
        "# Convert to Pandas dataframe for plotting\n",
        "page_counts_pd = page_counts.toPandas()\n",
        "\n",
        "# Create bar plot\n",
        "fig, ax = plt.subplots(figsize=(10,6))\n",
        "ax.bar(page_counts_pd[\"page\"], page_counts_pd[\"count\"])\n",
        "ax.set_xticklabels(page_counts_pd[\"page\"], rotation=90)\n",
        "ax.set_xlabel(\"Page\")\n",
        "ax.set_ylabel(\"Count\")\n",
        "ax.set_title(\"Distribution of Pages\")\n",
        "plt.show()\n",
        "\n"
      ],
      "metadata": {
        "colab": {
          "base_uri": "https://localhost:8080/",
          "height": 767
        },
        "id": "CFHZmo0-29vd",
        "outputId": "fce1ffaa-884e-4349-b090-87ec4bac6541"
      },
      "execution_count": 74,
      "outputs": [
        {
          "output_type": "stream",
          "name": "stderr",
          "text": [
            "<ipython-input-74-6e3c0a77b7a7>:12: UserWarning: FixedFormatter should only be used together with FixedLocator\n",
            "  ax.set_xticklabels(page_counts_pd[\"page\"], rotation=90)\n"
          ]
        },
        {
          "output_type": "display_data",
          "data": {
            "text/plain": [
              "<Figure size 1000x600 with 1 Axes>"
            ],
            "image/png": "[encoded data removed]"
          },
          "metadata": {}
        }
      ]
    },
    {
      "cell_type": "code",
      "source": [
        "import matplotlib.pyplot as plt\n",
        "\n",
        "# calculate number of churned and non-churned users\n",
        "churn_count = spotify_df.filter(col(\"page\") == \"Cancellation Confirmation\") \\\n",
        "                       .select(\"userId\").distinct().count()\n",
        "non_churn_count = spotify_df.select(\"userId\").distinct().count() - churn_count\n",
        "\n",
        "# create bar plot\n",
        "colors = ['orange', 'green']\n",
        "labels = [\"Churned\", \"Non-Churned\"]\n",
        "values = [churn_count, non_churn_count]\n",
        "plt.bar(labels, values,color=colors)\n",
        "plt.xlabel(\"Churn Status\")\n",
        "plt.ylabel(\"Number of Users\")\n",
        "plt.title(\"Count of Churned and Non-Churned Users\")\n",
        "plt.show()\n"
      ],
      "metadata": {
        "colab": {
          "base_uri": "https://localhost:8080/",
          "height": 472
        },
        "id": "M3SMmpK8IPuY",
        "outputId": "65496e3a-abf6-4420-a51c-35919962ad0b"
      },
      "execution_count": 75,
      "outputs": [
        {
          "output_type": "display_data",
          "data": {
            "text/plain": [
              "<Figure size 640x480 with 1 Axes>"
            ],
            "image/png": "[encoded data removed]"
          },
          "metadata": {}
        }
      ]
    },
    {
      "cell_type": "code",
      "source": [
        "# Define a churn event as a user downgrading their subscription or cancelling their account\n",
        "churn_event = when((col(\"page\") == \"Cancellation Confirmation\") | (col(\"page\") == \"Downgrade\"), 1).otherwise(0)\n",
        "\n",
        "# Add the churn_event column to the DataFrame\n",
        "spotify_df = spotify_df.withColumn(\"churn_event\", churn_event)\n"
      ],
      "metadata": {
        "id": "xfz4mb8hJx6R"
      },
      "execution_count": 76,
      "outputs": []
    },
    {
      "cell_type": "code",
      "source": [
        "from pyspark.sql.functions import sum, when, col\n",
        "\n",
        "# Calculate churn rate\n",
        "churn_rate = spotify_df.groupBy(\"level\").agg(\n",
        "    (sum(when(col(\"churn_event\") == 1, 1).otherwise(0)) / count(\"*\") * 100).alias(\"churn_rate\")\n",
        ")\n",
        "\n",
        "# Create plot of churn rate by subscription level\n",
        "churn_rate.toPandas().plot(kind=\"bar\", x=\"level\", y=\"churn_rate\", legend=False)\n",
        "plt.title(\"Churn Rate by Subscription Level\")\n",
        "plt.xlabel(\"Subscription Level\")\n",
        "plt.ylabel(\"Churn Rate (%)\")\n",
        "plt.show()\n"
      ],
      "metadata": {
        "colab": {
          "base_uri": "https://localhost:8080/",
          "height": 488
        },
        "id": "hh_GsjUOJksN",
        "outputId": "ffa66a89-7ba4-49d3-eff7-4fe753ea18b3"
      },
      "execution_count": 77,
      "outputs": [
        {
          "output_type": "display_data",
          "data": {
            "text/plain": [
              "<Figure size 640x480 with 1 Axes>"
            ],
            "image/png": "[encoded data removed]"
          },
          "metadata": {}
        }
      ]
    },
    {
      "cell_type": "code",
      "source": [
        "churned_users = df_churn.groupby(\"userId\").max(\"churn\").withColumnRenamed(\"max(churn)\", \"churn\").select([\"userId\", \"churn\"])\n",
        "# artist\n",
        "df_user_artist = churned_users.join(df_churn.groupby(\"userId\") \\\n",
        "                                    .agg({\"artist\": \"count\"}) \\\n",
        "                                    .withColumnRenamed(\"count(artist)\", \"artist_count\"), [\"userId\"]) \\\n",
        "                                    .withColumn(\"churn\", when(col(\"churn\") == 1, \"Churn\").otherwise(\"Not Churn\")).toPandas()\n",
        "df_user_artist.head()"
      ],
      "metadata": {
        "colab": {
          "base_uri": "https://localhost:8080/",
          "height": 206
        },
        "id": "YED_Ej1Io4-w",
        "outputId": "6ff1d6b2-4f2a-4409-8425-e8428df917f6"
      },
      "execution_count": 78,
      "outputs": [
        {
          "output_type": "execute_result",
          "data": {
            "text/plain": [
              "  userId      churn  artist_count\n",
              "0    125      Churn            11\n",
              "1     51      Churn          2464\n",
              "2    124  Not Churn          4825\n",
              "3      7  Not Churn           201\n",
              "4     54      Churn          3437"
            ],
            "text/html": [
              "\n",
              "  <div id=\"df-9c275d78-eaa8-4d7e-9d65-4f39a5a6b4ac\">\n",
              "    <div class=\"colab-df-container\">\n",
              "      <div>\n",
              "<style scoped>\n",
              "    .dataframe tbody tr th:only-of-type {\n",
              "        vertical-align: middle;\n",
              "    }\n",
              "\n",
              "    .dataframe tbody tr th {\n",
              "        vertical-align: top;\n",
              "    }\n",
              "\n",
              "    .dataframe thead th {\n",
              "        text-align: right;\n",
              "    }\n",
              "</style>\n",
              "<table border=\"1\" class=\"dataframe\">\n",
              "  <thead>\n",
              "    <tr style=\"text-align: right;\">\n",
              "      <th></th>\n",
              "      <th>userId</th>\n",
              "      <th>churn</th>\n",
              "      <th>artist_count</th>\n",
              "    </tr>\n",
              "  </thead>\n",
              "  <tbody>\n",
              "    <tr>\n",
              "      <th>0</th>\n",
              "      <td>125</td>\n",
              "      <td>Churn</td>\n",
              "      <td>11</td>\n",
              "    </tr>\n",
              "    <tr>\n",
              "      <th>1</th>\n",
              "      <td>51</td>\n",
              "      <td>Churn</td>\n",
              "      <td>2464</td>\n",
              "    </tr>\n",
              "    <tr>\n",
              "      <th>2</th>\n",
              "      <td>124</td>\n",
              "      <td>Not Churn</td>\n",
              "      <td>4825</td>\n",
              "    </tr>\n",
              "    <tr>\n",
              "      <th>3</th>\n",
              "      <td>7</td>\n",
              "      <td>Not Churn</td>\n",
              "      <td>201</td>\n",
              "    </tr>\n",
              "    <tr>\n",
              "      <th>4</th>\n",
              "      <td>54</td>\n",
              "      <td>Churn</td>\n",
              "      <td>3437</td>\n",
              "    </tr>\n",
              "  </tbody>\n",
              "</table>\n",
              "</div>\n",
              "      <button class=\"colab-df-convert\" onclick=\"convertToInteractive('df-9c275d78-eaa8-4d7e-9d65-4f39a5a6b4ac')\"\n",
              "              title=\"Convert this dataframe to an interactive table.\"\n",
              "              style=\"display:none;\">\n",
              "        \n",
              "  <svg xmlns=\"http://www.w3.org/2000/svg\" height=\"24px\"viewBox=\"0 0 24 24\"\n",
              "       width=\"24px\">\n",
              "    <path d=\"M0 0h24v24H0V0z\" fill=\"none\"/>\n",
              "    <path d=\"M18.56 5.44l.94 2.06.94-2.06 2.06-.94-2.06-.94-.94-2.06-.94 2.06-2.06.94zm-11 1L8.5 8.5l.94-2.06 2.06-.94-2.06-.94L8.5 2.5l-.94 2.06-2.06.94zm10 10l.94 2.06.94-2.06 2.06-.94-2.06-.94-.94-2.06-.94 2.06-2.06.94z\"/><path d=\"M17.41 7.96l-1.37-1.37c-.4-.4-.92-.59-1.43-.59-.52 0-1.04.2-1.43.59L10.3 9.45l-7.72 7.72c-.78.78-.78 2.05 0 2.83L4 21.41c.39.39.9.59 1.41.59.51 0 1.02-.2 1.41-.59l7.78-7.78 2.81-2.81c.8-.78.8-2.07 0-2.86zM5.41 20L4 18.59l7.72-7.72 1.47 1.35L5.41 20z\"/>\n",
              "  </svg>\n",
              "      </button>\n",
              "      \n",
              "  <style>\n",
              "    .colab-df-container {\n",
              "      display:flex;\n",
              "      flex-wrap:wrap;\n",
              "      gap: 12px;\n",
              "    }\n",
              "\n",
              "    .colab-df-convert {\n",
              "      background-color: #E8F0FE;\n",
              "      border: none;\n",
              "      border-radius: 50%;\n",
              "      cursor: pointer;\n",
              "      display: none;\n",
              "      fill: #1967D2;\n",
              "      height: 32px;\n",
              "      padding: 0 0 0 0;\n",
              "      width: 32px;\n",
              "    }\n",
              "\n",
              "    .colab-df-convert:hover {\n",
              "      background-color: #E2EBFA;\n",
              "      box-shadow: 0px 1px 2px rgba(60, 64, 67, 0.3), 0px 1px 3px 1px rgba(60, 64, 67, 0.15);\n",
              "      fill: #174EA6;\n",
              "    }\n",
              "\n",
              "    [theme=dark] .colab-df-convert {\n",
              "      background-color: #3B4455;\n",
              "      fill: #D2E3FC;\n",
              "    }\n",
              "\n",
              "    [theme=dark] .colab-df-convert:hover {\n",
              "      background-color: #434B5C;\n",
              "      box-shadow: 0px 1px 3px 1px rgba(0, 0, 0, 0.15);\n",
              "      filter: drop-shadow(0px 1px 2px rgba(0, 0, 0, 0.3));\n",
              "      fill: #FFFFFF;\n",
              "    }\n",
              "  </style>\n",
              "\n",
              "      <script>\n",
              "        const buttonEl =\n",
              "          document.querySelector('#df-9c275d78-eaa8-4d7e-9d65-4f39a5a6b4ac button.colab-df-convert');\n",
              "        buttonEl.style.display =\n",
              "          google.colab.kernel.accessAllowed ? 'block' : 'none';\n",
              "\n",
              "        async function convertToInteractive(key) {\n",
              "          const element = document.querySelector('#df-9c275d78-eaa8-4d7e-9d65-4f39a5a6b4ac');\n",
              "          const dataTable =\n",
              "            await google.colab.kernel.invokeFunction('convertToInteractive',\n",
              "                                                     [key], {});\n",
              "          if (!dataTable) return;\n",
              "\n",
              "          const docLinkHtml = 'Like what you see? Visit the ' +\n",
              "            '<a target=\"_blank\" href=https://colab.research.google.com/notebooks/data_table.ipynb>data table notebook</a>'\n",
              "            + ' to learn more about interactive tables.';\n",
              "          element.innerHTML = '';\n",
              "          dataTable['output_type'] = 'display_data';\n",
              "          await google.colab.output.renderOutput(dataTable, element);\n",
              "          const docLink = document.createElement('div');\n",
              "          docLink.innerHTML = docLinkHtml;\n",
              "          element.appendChild(docLink);\n",
              "        }\n",
              "      </script>\n",
              "    </div>\n",
              "  </div>\n",
              "  "
            ]
          },
          "metadata": {},
          "execution_count": 78
        }
      ]
    },
    {
      "cell_type": "code",
      "source": [
        "sns.boxplot(x=\"churn\", y=\"artist_count\", data=df_user_artist);\n"
      ],
      "metadata": {
        "colab": {
          "base_uri": "https://localhost:8080/",
          "height": 451
        },
        "id": "2oCqRl5no7yU",
        "outputId": "bcdabbe7-2fed-4358-b9fd-f6e9a78ba45c"
      },
      "execution_count": 79,
      "outputs": [
        {
          "output_type": "display_data",
          "data": {
            "text/plain": [
              "<Figure size 640x480 with 1 Axes>"
            ],
            "image/png": "[encoded data removed]"
          },
          "metadata": {}
        }
      ]
    },
    {
      "cell_type": "code",
      "source": [
        "#song\n",
        "df_user_song = churned_users.join(df_churn.groupby(\"userId\") \\\n",
        "                                     .agg({\"song\": \"count\"}) \\\n",
        "                                     .withColumnRenamed(\"count(song)\", \"song_count\"), [\"userId\"]) \\\n",
        "                       .withColumn(\"churn\", when(col(\"churn\") == 1, \"Churn\").otherwise(\"Not Churn\")).toPandas()\n",
        "df_user_song.head()\n"
      ],
      "metadata": {
        "colab": {
          "base_uri": "https://localhost:8080/",
          "height": 206
        },
        "id": "v0xfeoweowZA",
        "outputId": "5ce9f568-ed25-41fb-fcb5-c535987b328d"
      },
      "execution_count": 80,
      "outputs": [
        {
          "output_type": "execute_result",
          "data": {
            "text/plain": [
              "  userId      churn  song_count\n",
              "0    125      Churn          11\n",
              "1     51      Churn        2464\n",
              "2    124  Not Churn        4825\n",
              "3      7  Not Churn         201\n",
              "4     54      Churn        3437"
            ],
            "text/html": [
              "\n",
              "  <div id=\"df-2ef09387-b2ad-42ce-8660-62b041dbe9e1\">\n",
              "    <div class=\"colab-df-container\">\n",
              "      <div>\n",
              "<style scoped>\n",
              "    .dataframe tbody tr th:only-of-type {\n",
              "        vertical-align: middle;\n",
              "    }\n",
              "\n",
              "    .dataframe tbody tr th {\n",
              "        vertical-align: top;\n",
              "    }\n",
              "\n",
              "    .dataframe thead th {\n",
              "        text-align: right;\n",
              "    }\n",
              "</style>\n",
              "<table border=\"1\" class=\"dataframe\">\n",
              "  <thead>\n",
              "    <tr style=\"text-align: right;\">\n",
              "      <th></th>\n",
              "      <th>userId</th>\n",
              "      <th>churn</th>\n",
              "      <th>song_count</th>\n",
              "    </tr>\n",
              "  </thead>\n",
              "  <tbody>\n",
              "    <tr>\n",
              "      <th>0</th>\n",
              "      <td>125</td>\n",
              "      <td>Churn</td>\n",
              "      <td>11</td>\n",
              "    </tr>\n",
              "    <tr>\n",
              "      <th>1</th>\n",
              "      <td>51</td>\n",
              "      <td>Churn</td>\n",
              "      <td>2464</td>\n",
              "    </tr>\n",
              "    <tr>\n",
              "      <th>2</th>\n",
              "      <td>124</td>\n",
              "      <td>Not Churn</td>\n",
              "      <td>4825</td>\n",
              "    </tr>\n",
              "    <tr>\n",
              "      <th>3</th>\n",
              "      <td>7</td>\n",
              "      <td>Not Churn</td>\n",
              "      <td>201</td>\n",
              "    </tr>\n",
              "    <tr>\n",
              "      <th>4</th>\n",
              "      <td>54</td>\n",
              "      <td>Churn</td>\n",
              "      <td>3437</td>\n",
              "    </tr>\n",
              "  </tbody>\n",
              "</table>\n",
              "</div>\n",
              "      <button class=\"colab-df-convert\" onclick=\"convertToInteractive('df-2ef09387-b2ad-42ce-8660-62b041dbe9e1')\"\n",
              "              title=\"Convert this dataframe to an interactive table.\"\n",
              "              style=\"display:none;\">\n",
              "        \n",
              "  <svg xmlns=\"http://www.w3.org/2000/svg\" height=\"24px\"viewBox=\"0 0 24 24\"\n",
              "       width=\"24px\">\n",
              "    <path d=\"M0 0h24v24H0V0z\" fill=\"none\"/>\n",
              "    <path d=\"M18.56 5.44l.94 2.06.94-2.06 2.06-.94-2.06-.94-.94-2.06-.94 2.06-2.06.94zm-11 1L8.5 8.5l.94-2.06 2.06-.94-2.06-.94L8.5 2.5l-.94 2.06-2.06.94zm10 10l.94 2.06.94-2.06 2.06-.94-2.06-.94-.94-2.06-.94 2.06-2.06.94z\"/><path d=\"M17.41 7.96l-1.37-1.37c-.4-.4-.92-.59-1.43-.59-.52 0-1.04.2-1.43.59L10.3 9.45l-7.72 7.72c-.78.78-.78 2.05 0 2.83L4 21.41c.39.39.9.59 1.41.59.51 0 1.02-.2 1.41-.59l7.78-7.78 2.81-2.81c.8-.78.8-2.07 0-2.86zM5.41 20L4 18.59l7.72-7.72 1.47 1.35L5.41 20z\"/>\n",
              "  </svg>\n",
              "      </button>\n",
              "      \n",
              "  <style>\n",
              "    .colab-df-container {\n",
              "      display:flex;\n",
              "      flex-wrap:wrap;\n",
              "      gap: 12px;\n",
              "    }\n",
              "\n",
              "    .colab-df-convert {\n",
              "      background-color: #E8F0FE;\n",
              "      border: none;\n",
              "      border-radius: 50%;\n",
              "      cursor: pointer;\n",
              "      display: none;\n",
              "      fill: #1967D2;\n",
              "      height: 32px;\n",
              "      padding: 0 0 0 0;\n",
              "      width: 32px;\n",
              "    }\n",
              "\n",
              "    .colab-df-convert:hover {\n",
              "      background-color: #E2EBFA;\n",
              "      box-shadow: 0px 1px 2px rgba(60, 64, 67, 0.3), 0px 1px 3px 1px rgba(60, 64, 67, 0.15);\n",
              "      fill: #174EA6;\n",
              "    }\n",
              "\n",
              "    [theme=dark] .colab-df-convert {\n",
              "      background-color: #3B4455;\n",
              "      fill: #D2E3FC;\n",
              "    }\n",
              "\n",
              "    [theme=dark] .colab-df-convert:hover {\n",
              "      background-color: #434B5C;\n",
              "      box-shadow: 0px 1px 3px 1px rgba(0, 0, 0, 0.15);\n",
              "      filter: drop-shadow(0px 1px 2px rgba(0, 0, 0, 0.3));\n",
              "      fill: #FFFFFF;\n",
              "    }\n",
              "  </style>\n",
              "\n",
              "      <script>\n",
              "        const buttonEl =\n",
              "          document.querySelector('#df-2ef09387-b2ad-42ce-8660-62b041dbe9e1 button.colab-df-convert');\n",
              "        buttonEl.style.display =\n",
              "          google.colab.kernel.accessAllowed ? 'block' : 'none';\n",
              "\n",
              "        async function convertToInteractive(key) {\n",
              "          const element = document.querySelector('#df-2ef09387-b2ad-42ce-8660-62b041dbe9e1');\n",
              "          const dataTable =\n",
              "            await google.colab.kernel.invokeFunction('convertToInteractive',\n",
              "                                                     [key], {});\n",
              "          if (!dataTable) return;\n",
              "\n",
              "          const docLinkHtml = 'Like what you see? Visit the ' +\n",
              "            '<a target=\"_blank\" href=https://colab.research.google.com/notebooks/data_table.ipynb>data table notebook</a>'\n",
              "            + ' to learn more about interactive tables.';\n",
              "          element.innerHTML = '';\n",
              "          dataTable['output_type'] = 'display_data';\n",
              "          await google.colab.output.renderOutput(dataTable, element);\n",
              "          const docLink = document.createElement('div');\n",
              "          docLink.innerHTML = docLinkHtml;\n",
              "          element.appendChild(docLink);\n",
              "        }\n",
              "      </script>\n",
              "    </div>\n",
              "  </div>\n",
              "  "
            ]
          },
          "metadata": {},
          "execution_count": 80
        }
      ]
    },
    {
      "cell_type": "code",
      "source": [
        "sns.boxplot(x=\"churn\", y=\"song_count\", data=df_user_song)"
      ],
      "metadata": {
        "colab": {
          "base_uri": "https://localhost:8080/",
          "height": 469
        },
        "id": "Yw2zOK4MoHxm",
        "outputId": "30d5ff42-a52a-4370-a56c-c45a5c80076f"
      },
      "execution_count": 81,
      "outputs": [
        {
          "output_type": "execute_result",
          "data": {
            "text/plain": [
              "<Axes: xlabel='churn', ylabel='song_count'>"
            ]
          },
          "metadata": {},
          "execution_count": 81
        },
        {
          "output_type": "display_data",
          "data": {
            "text/plain": [
              "<Figure size 640x480 with 1 Axes>"
            ],
            "image/png": "[encoded data removed]"
          },
          "metadata": {}
        }
      ]
    },
    {
      "cell_type": "code",
      "source": [
        "# page: total visits\n",
        "df_user_visit = churned_users.join(df_churn.groupby(\"userId\") \\\n",
        "                                      .count() \\\n",
        "                                      .withColumnRenamed(\"count\", \"visit_count\"), [\"userId\"]) \\\n",
        "                         .withColumn(\"churn\", when(col(\"churn\") == 1, \"Churn\").otherwise(\"Not Churn\")).toPandas()\n",
        "df_user_visit.head()\n",
        "\n"
      ],
      "metadata": {
        "colab": {
          "base_uri": "https://localhost:8080/",
          "height": 206
        },
        "id": "K8VVyP2voH-g",
        "outputId": "847e1477-d6c8-4f72-f0bd-102a1a74dfd2"
      },
      "execution_count": 82,
      "outputs": [
        {
          "output_type": "execute_result",
          "data": {
            "text/plain": [
              "  userId      churn  visit_count\n",
              "0    125      Churn           11\n",
              "1     51      Churn         2464\n",
              "2    124  Not Churn         4825\n",
              "3      7  Not Churn          201\n",
              "4     54      Churn         3437"
            ],
            "text/html": [
              "\n",
              "  <div id=\"df-a5d65ae2-509c-4b0f-b529-1b7d97618364\">\n",
              "    <div class=\"colab-df-container\">\n",
              "      <div>\n",
              "<style scoped>\n",
              "    .dataframe tbody tr th:only-of-type {\n",
              "        vertical-align: middle;\n",
              "    }\n",
              "\n",
              "    .dataframe tbody tr th {\n",
              "        vertical-align: top;\n",
              "    }\n",
              "\n",
              "    .dataframe thead th {\n",
              "        text-align: right;\n",
              "    }\n",
              "</style>\n",
              "<table border=\"1\" class=\"dataframe\">\n",
              "  <thead>\n",
              "    <tr style=\"text-align: right;\">\n",
              "      <th></th>\n",
              "      <th>userId</th>\n",
              "      <th>churn</th>\n",
              "      <th>visit_count</th>\n",
              "    </tr>\n",
              "  </thead>\n",
              "  <tbody>\n",
              "    <tr>\n",
              "      <th>0</th>\n",
              "      <td>125</td>\n",
              "      <td>Churn</td>\n",
              "      <td>11</td>\n",
              "    </tr>\n",
              "    <tr>\n",
              "      <th>1</th>\n",
              "      <td>51</td>\n",
              "      <td>Churn</td>\n",
              "      <td>2464</td>\n",
              "    </tr>\n",
              "    <tr>\n",
              "      <th>2</th>\n",
              "      <td>124</td>\n",
              "      <td>Not Churn</td>\n",
              "      <td>4825</td>\n",
              "    </tr>\n",
              "    <tr>\n",
              "      <th>3</th>\n",
              "      <td>7</td>\n",
              "      <td>Not Churn</td>\n",
              "      <td>201</td>\n",
              "    </tr>\n",
              "    <tr>\n",
              "      <th>4</th>\n",
              "      <td>54</td>\n",
              "      <td>Churn</td>\n",
              "      <td>3437</td>\n",
              "    </tr>\n",
              "  </tbody>\n",
              "</table>\n",
              "</div>\n",
              "      <button class=\"colab-df-convert\" onclick=\"convertToInteractive('df-a5d65ae2-509c-4b0f-b529-1b7d97618364')\"\n",
              "              title=\"Convert this dataframe to an interactive table.\"\n",
              "              style=\"display:none;\">\n",
              "        \n",
              "  <svg xmlns=\"http://www.w3.org/2000/svg\" height=\"24px\"viewBox=\"0 0 24 24\"\n",
              "       width=\"24px\">\n",
              "    <path d=\"M0 0h24v24H0V0z\" fill=\"none\"/>\n",
              "    <path d=\"M18.56 5.44l.94 2.06.94-2.06 2.06-.94-2.06-.94-.94-2.06-.94 2.06-2.06.94zm-11 1L8.5 8.5l.94-2.06 2.06-.94-2.06-.94L8.5 2.5l-.94 2.06-2.06.94zm10 10l.94 2.06.94-2.06 2.06-.94-2.06-.94-.94-2.06-.94 2.06-2.06.94z\"/><path d=\"M17.41 7.96l-1.37-1.37c-.4-.4-.92-.59-1.43-.59-.52 0-1.04.2-1.43.59L10.3 9.45l-7.72 7.72c-.78.78-.78 2.05 0 2.83L4 21.41c.39.39.9.59 1.41.59.51 0 1.02-.2 1.41-.59l7.78-7.78 2.81-2.81c.8-.78.8-2.07 0-2.86zM5.41 20L4 18.59l7.72-7.72 1.47 1.35L5.41 20z\"/>\n",
              "  </svg>\n",
              "      </button>\n",
              "      \n",
              "  <style>\n",
              "    .colab-df-container {\n",
              "      display:flex;\n",
              "      flex-wrap:wrap;\n",
              "      gap: 12px;\n",
              "    }\n",
              "\n",
              "    .colab-df-convert {\n",
              "      background-color: #E8F0FE;\n",
              "      border: none;\n",
              "      border-radius: 50%;\n",
              "      cursor: pointer;\n",
              "      display: none;\n",
              "      fill: #1967D2;\n",
              "      height: 32px;\n",
              "      padding: 0 0 0 0;\n",
              "      width: 32px;\n",
              "    }\n",
              "\n",
              "    .colab-df-convert:hover {\n",
              "      background-color: #E2EBFA;\n",
              "      box-shadow: 0px 1px 2px rgba(60, 64, 67, 0.3), 0px 1px 3px 1px rgba(60, 64, 67, 0.15);\n",
              "      fill: #174EA6;\n",
              "    }\n",
              "\n",
              "    [theme=dark] .colab-df-convert {\n",
              "      background-color: #3B4455;\n",
              "      fill: #D2E3FC;\n",
              "    }\n",
              "\n",
              "    [theme=dark] .colab-df-convert:hover {\n",
              "      background-color: #434B5C;\n",
              "      box-shadow: 0px 1px 3px 1px rgba(0, 0, 0, 0.15);\n",
              "      filter: drop-shadow(0px 1px 2px rgba(0, 0, 0, 0.3));\n",
              "      fill: #FFFFFF;\n",
              "    }\n",
              "  </style>\n",
              "\n",
              "      <script>\n",
              "        const buttonEl =\n",
              "          document.querySelector('#df-a5d65ae2-509c-4b0f-b529-1b7d97618364 button.colab-df-convert');\n",
              "        buttonEl.style.display =\n",
              "          google.colab.kernel.accessAllowed ? 'block' : 'none';\n",
              "\n",
              "        async function convertToInteractive(key) {\n",
              "          const element = document.querySelector('#df-a5d65ae2-509c-4b0f-b529-1b7d97618364');\n",
              "          const dataTable =\n",
              "            await google.colab.kernel.invokeFunction('convertToInteractive',\n",
              "                                                     [key], {});\n",
              "          if (!dataTable) return;\n",
              "\n",
              "          const docLinkHtml = 'Like what you see? Visit the ' +\n",
              "            '<a target=\"_blank\" href=https://colab.research.google.com/notebooks/data_table.ipynb>data table notebook</a>'\n",
              "            + ' to learn more about interactive tables.';\n",
              "          element.innerHTML = '';\n",
              "          dataTable['output_type'] = 'display_data';\n",
              "          await google.colab.output.renderOutput(dataTable, element);\n",
              "          const docLink = document.createElement('div');\n",
              "          docLink.innerHTML = docLinkHtml;\n",
              "          element.appendChild(docLink);\n",
              "        }\n",
              "      </script>\n",
              "    </div>\n",
              "  </div>\n",
              "  "
            ]
          },
          "metadata": {},
          "execution_count": 82
        }
      ]
    },
    {
      "cell_type": "code",
      "source": [
        "sns.boxplot(x=\"churn\", y=\"visit_count\", data=df_user_visit);"
      ],
      "metadata": {
        "colab": {
          "base_uri": "https://localhost:8080/",
          "height": 451
        },
        "id": "vbON-0KSeTGG",
        "outputId": "ec63e3c7-039d-481b-8336-cd72ab85edcf"
      },
      "execution_count": 83,
      "outputs": [
        {
          "output_type": "display_data",
          "data": {
            "text/plain": [
              "<Figure size 640x480 with 1 Axes>"
            ],
            "image/png": "[encoded data removed]"
          },
          "metadata": {}
        }
      ]
    },
    {
      "cell_type": "code",
      "source": [
        "df_churn_gender = df_churn.select([\"userId\", \"gender\", \"churn\"]).withColumn(\"churn\", when(col(\"churn\") == 1, \"Churn\").otherwise(\"Not Churn\")).toPandas()\n",
        "df_churn_gender.head()"
      ],
      "metadata": {
        "colab": {
          "base_uri": "https://localhost:8080/",
          "height": 206
        },
        "id": "xwT4RPs_G6XT",
        "outputId": "df7cbabf-08b9-4499-fb05-ff1644526e47"
      },
      "execution_count": 84,
      "outputs": [
        {
          "output_type": "execute_result",
          "data": {
            "text/plain": [
              "  userId gender      churn\n",
              "0          None  Not Churn\n",
              "1          None  Not Churn\n",
              "2          None  Not Churn\n",
              "3          None  Not Churn\n",
              "4          None  Not Churn"
            ],
            "text/html": [
              "\n",
              "  <div id=\"df-37c7f0af-fbec-4156-826c-b6e5b0de8e44\">\n",
              "    <div class=\"colab-df-container\">\n",
              "      <div>\n",
              "<style scoped>\n",
              "    .dataframe tbody tr th:only-of-type {\n",
              "        vertical-align: middle;\n",
              "    }\n",
              "\n",
              "    .dataframe tbody tr th {\n",
              "        vertical-align: top;\n",
              "    }\n",
              "\n",
              "    .dataframe thead th {\n",
              "        text-align: right;\n",
              "    }\n",
              "</style>\n",
              "<table border=\"1\" class=\"dataframe\">\n",
              "  <thead>\n",
              "    <tr style=\"text-align: right;\">\n",
              "      <th></th>\n",
              "      <th>userId</th>\n",
              "      <th>gender</th>\n",
              "      <th>churn</th>\n",
              "    </tr>\n",
              "  </thead>\n",
              "  <tbody>\n",
              "    <tr>\n",
              "      <th>0</th>\n",
              "      <td></td>\n",
              "      <td>None</td>\n",
              "      <td>Not Churn</td>\n",
              "    </tr>\n",
              "    <tr>\n",
              "      <th>1</th>\n",
              "      <td></td>\n",
              "      <td>None</td>\n",
              "      <td>Not Churn</td>\n",
              "    </tr>\n",
              "    <tr>\n",
              "      <th>2</th>\n",
              "      <td></td>\n",
              "      <td>None</td>\n",
              "      <td>Not Churn</td>\n",
              "    </tr>\n",
              "    <tr>\n",
              "      <th>3</th>\n",
              "      <td></td>\n",
              "      <td>None</td>\n",
              "      <td>Not Churn</td>\n",
              "    </tr>\n",
              "    <tr>\n",
              "      <th>4</th>\n",
              "      <td></td>\n",
              "      <td>None</td>\n",
              "      <td>Not Churn</td>\n",
              "    </tr>\n",
              "  </tbody>\n",
              "</table>\n",
              "</div>\n",
              "      <button class=\"colab-df-convert\" onclick=\"convertToInteractive('df-37c7f0af-fbec-4156-826c-b6e5b0de8e44')\"\n",
              "              title=\"Convert this dataframe to an interactive table.\"\n",
              "              style=\"display:none;\">\n",
              "        \n",
              "  <svg xmlns=\"http://www.w3.org/2000/svg\" height=\"24px\"viewBox=\"0 0 24 24\"\n",
              "       width=\"24px\">\n",
              "    <path d=\"M0 0h24v24H0V0z\" fill=\"none\"/>\n",
              "    <path d=\"M18.56 5.44l.94 2.06.94-2.06 2.06-.94-2.06-.94-.94-2.06-.94 2.06-2.06.94zm-11 1L8.5 8.5l.94-2.06 2.06-.94-2.06-.94L8.5 2.5l-.94 2.06-2.06.94zm10 10l.94 2.06.94-2.06 2.06-.94-2.06-.94-.94-2.06-.94 2.06-2.06.94z\"/><path d=\"M17.41 7.96l-1.37-1.37c-.4-.4-.92-.59-1.43-.59-.52 0-1.04.2-1.43.59L10.3 9.45l-7.72 7.72c-.78.78-.78 2.05 0 2.83L4 21.41c.39.39.9.59 1.41.59.51 0 1.02-.2 1.41-.59l7.78-7.78 2.81-2.81c.8-.78.8-2.07 0-2.86zM5.41 20L4 18.59l7.72-7.72 1.47 1.35L5.41 20z\"/>\n",
              "  </svg>\n",
              "      </button>\n",
              "      \n",
              "  <style>\n",
              "    .colab-df-container {\n",
              "      display:flex;\n",
              "      flex-wrap:wrap;\n",
              "      gap: 12px;\n",
              "    }\n",
              "\n",
              "    .colab-df-convert {\n",
              "      background-color: #E8F0FE;\n",
              "      border: none;\n",
              "      border-radius: 50%;\n",
              "      cursor: pointer;\n",
              "      display: none;\n",
              "      fill: #1967D2;\n",
              "      height: 32px;\n",
              "      padding: 0 0 0 0;\n",
              "      width: 32px;\n",
              "    }\n",
              "\n",
              "    .colab-df-convert:hover {\n",
              "      background-color: #E2EBFA;\n",
              "      box-shadow: 0px 1px 2px rgba(60, 64, 67, 0.3), 0px 1px 3px 1px rgba(60, 64, 67, 0.15);\n",
              "      fill: #174EA6;\n",
              "    }\n",
              "\n",
              "    [theme=dark] .colab-df-convert {\n",
              "      background-color: #3B4455;\n",
              "      fill: #D2E3FC;\n",
              "    }\n",
              "\n",
              "    [theme=dark] .colab-df-convert:hover {\n",
              "      background-color: #434B5C;\n",
              "      box-shadow: 0px 1px 3px 1px rgba(0, 0, 0, 0.15);\n",
              "      filter: drop-shadow(0px 1px 2px rgba(0, 0, 0, 0.3));\n",
              "      fill: #FFFFFF;\n",
              "    }\n",
              "  </style>\n",
              "\n",
              "      <script>\n",
              "        const buttonEl =\n",
              "          document.querySelector('#df-37c7f0af-fbec-4156-826c-b6e5b0de8e44 button.colab-df-convert');\n",
              "        buttonEl.style.display =\n",
              "          google.colab.kernel.accessAllowed ? 'block' : 'none';\n",
              "\n",
              "        async function convertToInteractive(key) {\n",
              "          const element = document.querySelector('#df-37c7f0af-fbec-4156-826c-b6e5b0de8e44');\n",
              "          const dataTable =\n",
              "            await google.colab.kernel.invokeFunction('convertToInteractive',\n",
              "                                                     [key], {});\n",
              "          if (!dataTable) return;\n",
              "\n",
              "          const docLinkHtml = 'Like what you see? Visit the ' +\n",
              "            '<a target=\"_blank\" href=https://colab.research.google.com/notebooks/data_table.ipynb>data table notebook</a>'\n",
              "            + ' to learn more about interactive tables.';\n",
              "          element.innerHTML = '';\n",
              "          dataTable['output_type'] = 'display_data';\n",
              "          await google.colab.output.renderOutput(dataTable, element);\n",
              "          const docLink = document.createElement('div');\n",
              "          docLink.innerHTML = docLinkHtml;\n",
              "          element.appendChild(docLink);\n",
              "        }\n",
              "      </script>\n",
              "    </div>\n",
              "  </div>\n",
              "  "
            ]
          },
          "metadata": {},
          "execution_count": 84
        }
      ]
    },
    {
      "cell_type": "code",
      "source": [
        "sns.countplot(x=\"gender\", hue=\"churn\", data=df_churn_gender);"
      ],
      "metadata": {
        "colab": {
          "base_uri": "https://localhost:8080/",
          "height": 449
        },
        "id": "8P_LEt-JG6UR",
        "outputId": "27029fe6-2b4a-4627-e2b2-4894ace7cfa3"
      },
      "execution_count": 85,
      "outputs": [
        {
          "output_type": "display_data",
          "data": {
            "text/plain": [
              "<Figure size 640x480 with 1 Axes>"
            ],
            "image/png": "[encoded data removed]"
          },
          "metadata": {}
        }
      ]
    },
    {
      "cell_type": "code",
      "source": [
        "# Feature Engineering"
      ],
      "metadata": {
        "id": "sj31x3XwXo-H"
      },
      "execution_count": 86,
      "outputs": []
    },
    {
      "cell_type": "code",
      "source": [
        "new_df_original = customer_event_df.groupby('userId').max(\"churn\").withColumnRenamed(\"max(churn)\", \"target\")"
      ],
      "metadata": {
        "id": "JOEX3370_RNM"
      },
      "execution_count": 87,
      "outputs": []
    },
    {
      "cell_type": "code",
      "source": [
        "new_df_original.show(10)"
      ],
      "metadata": {
        "id": "f-4de-Zy_RQA",
        "colab": {
          "base_uri": "https://localhost:8080/"
        },
        "outputId": "b8425276-ae08-41d2-ecf6-0b70a192bedf"
      },
      "execution_count": 88,
      "outputs": [
        {
          "output_type": "stream",
          "name": "stdout",
          "text": [
            "+------+------+\n",
            "|userId|target|\n",
            "+------+------+\n",
            "|      |     0|\n",
            "|    10|     0|\n",
            "|   100|     0|\n",
            "|100001|     1|\n",
            "|100002|     0|\n",
            "|100003|     1|\n",
            "|100004|     0|\n",
            "|100005|     1|\n",
            "|100006|     1|\n",
            "|100007|     1|\n",
            "+------+------+\n",
            "only showing top 10 rows\n",
            "\n"
          ]
        }
      ]
    },
    {
      "cell_type": "code",
      "source": [
        "artist_count = customer_event_df.groupby(\"userId\").agg({\"artist\": \"count\"}).withColumnRenamed(\"count(artist)\", \"artist_count\")\n",
        "artist_count.show(5)"
      ],
      "metadata": {
        "id": "9DY1fSkq_RS4",
        "colab": {
          "base_uri": "https://localhost:8080/"
        },
        "outputId": "84d62cd5-af2e-4225-a4fd-ca6b687e94a5"
      },
      "execution_count": 89,
      "outputs": [
        {
          "output_type": "stream",
          "name": "stdout",
          "text": [
            "+------+------------+\n",
            "|userId|artist_count|\n",
            "+------+------------+\n",
            "|   125|          11|\n",
            "|    51|        2464|\n",
            "|   124|        4825|\n",
            "|     7|         201|\n",
            "|    54|        3437|\n",
            "+------+------------+\n",
            "only showing top 5 rows\n",
            "\n"
          ]
        }
      ]
    },
    {
      "cell_type": "code",
      "source": [
        "flag_gender = udf(lambda x: 1 if x == \"F\" else 0, IntegerType())\n",
        "df_churn_with_gender = customer_event_df.withColumn(\"gender\", flag_gender(\"gender\"))\n",
        "df_churn_with_gender.show(1)"
      ],
      "metadata": {
        "id": "nxkiP6Vi_RVq",
        "colab": {
          "base_uri": "https://localhost:8080/"
        },
        "outputId": "01bfaa7f-129e-40f6-f635-fb296e6fa84b"
      },
      "execution_count": 90,
      "outputs": [
        {
          "output_type": "stream",
          "name": "stdout",
          "text": [
            "+-----------+---------+---------+------+-------------+--------+---------+-----+--------------------+------+--------+-------------+---------+----------------+------+-------------+--------------------+------+-----+\n",
            "|     artist|     auth|firstName|gender|itemInSession|lastName|   length|level|            location|method|    page| registration|sessionId|            song|status|           ts|           userAgent|userId|churn|\n",
            "+-----------+---------+---------+------+-------------+--------+---------+-----+--------------------+------+--------+-------------+---------+----------------+------+-------------+--------------------+------+-----+\n",
            "|Evanescence|Logged In|    Colin|     0|            0|  Larson|237.11302| paid|Dallas-Fort Worth...|   PUT|NextSong|1537982255000|      256|Bring Me To Life|   200|1538492662000|Mozilla/5.0 (Wind...|   100|    0|\n",
            "+-----------+---------+---------+------+-------------+--------+---------+-----+--------------------+------+--------+-------------+---------+----------------+------+-------------+--------------------+------+-----+\n",
            "only showing top 1 row\n",
            "\n"
          ]
        }
      ]
    },
    {
      "cell_type": "code",
      "source": [
        "#from pyspark.sql.functions import when\n",
        "\n",
        "#df_churn_gender = customer_event_df.withColumn(\"gender\", when(col(\"gender\") == \"M\", 1).otherwise(0))\n",
        "#df_churn_gender.show(1)\n"
      ],
      "metadata": {
        "id": "jbqFB0OvYVVQ"
      },
      "execution_count": 91,
      "outputs": []
    },
    {
      "cell_type": "code",
      "source": [
        "user_gender_count = df_churn_with_gender.groupby('userId').agg({\"gender\": \"max\"}).withColumnRenamed(\"max(gender)\", \"gender\")\n",
        "user_gender_count.show(5)"
      ],
      "metadata": {
        "id": "PR-Xi9k7_RYZ",
        "colab": {
          "base_uri": "https://localhost:8080/"
        },
        "outputId": "db1c5357-4409-412f-d82e-0c8a818cdadd"
      },
      "execution_count": 92,
      "outputs": [
        {
          "output_type": "stream",
          "name": "stdout",
          "text": [
            "+------+------+\n",
            "|userId|gender|\n",
            "+------+------+\n",
            "|   125|     0|\n",
            "|    51|     0|\n",
            "|   124|     1|\n",
            "|     7|     0|\n",
            "|    54|     1|\n",
            "+------+------+\n",
            "only showing top 5 rows\n",
            "\n"
          ]
        }
      ]
    },
    {
      "cell_type": "code",
      "source": [
        "# Length\n",
        "user_total_length = customer_event_df.groupby('userId').agg({\"length\": \"sum\"}).withColumnRenamed(\"sum(length)\", \"length\")\n",
        "user_total_length.show(5)"
      ],
      "metadata": {
        "id": "nRSzu5It_RbI",
        "colab": {
          "base_uri": "https://localhost:8080/"
        },
        "outputId": "f7941c53-b40a-4d3b-b959-e8aa58da1aa3"
      },
      "execution_count": 93,
      "outputs": [
        {
          "output_type": "stream",
          "name": "stdout",
          "text": [
            "+------+------------------+\n",
            "|userId|            length|\n",
            "+------+------------------+\n",
            "|   125|2089.1131000000005|\n",
            "|    51| 523275.8428000004|\n",
            "|   124|1012312.0927899992|\n",
            "|     7| 38034.08710000002|\n",
            "|    54|  711344.919540001|\n",
            "+------+------------------+\n",
            "only showing top 5 rows\n",
            "\n"
          ]
        }
      ]
    },
    {
      "cell_type": "code",
      "source": [
        "# Page\n",
        "# Thubs up, thubs down\n",
        "user_total_thumbs_up = customer_event_df.filter(customer_event_df[\"page\"] == 'Thumbs Up').groupby('userId').count().withColumnRenamed(\"count\", \"thumb_up\")\n",
        "user_total_thumbs_up.show(5)"
      ],
      "metadata": {
        "colab": {
          "base_uri": "https://localhost:8080/"
        },
        "id": "_9MkIp-EY7ho",
        "outputId": "64890d35-9b30-4ef1-e1c7-d715db335ae6"
      },
      "execution_count": 94,
      "outputs": [
        {
          "output_type": "stream",
          "name": "stdout",
          "text": [
            "+------+--------+\n",
            "|userId|thumb_up|\n",
            "+------+--------+\n",
            "|    51|     100|\n",
            "|   124|     171|\n",
            "|     7|       7|\n",
            "|    54|     163|\n",
            "|    15|      81|\n",
            "+------+--------+\n",
            "only showing top 5 rows\n",
            "\n"
          ]
        }
      ]
    },
    {
      "cell_type": "code",
      "source": [
        "user_total_thumbs_down = customer_event_df.filter(customer_event_df[\"page\"] == 'Thumbs Down').groupby('userId').count().withColumnRenamed(\"count\", \"thumb_down\")\n",
        "user_total_thumbs_down.show(5)"
      ],
      "metadata": {
        "colab": {
          "base_uri": "https://localhost:8080/"
        },
        "id": "q9FcMHS3ZHSu",
        "outputId": "71673f5b-1491-4f22-887f-1b24682ac9fd"
      },
      "execution_count": 95,
      "outputs": [
        {
          "output_type": "stream",
          "name": "stdout",
          "text": [
            "+------+----------+\n",
            "|userId|thumb_down|\n",
            "+------+----------+\n",
            "|    51|        21|\n",
            "|   124|        41|\n",
            "|     7|         1|\n",
            "|    15|        14|\n",
            "|    54|        29|\n",
            "+------+----------+\n",
            "only showing top 5 rows\n",
            "\n"
          ]
        }
      ]
    },
    {
      "cell_type": "code",
      "source": [
        "# Level\n",
        "#flag_level = udf(lambda x: 1 if x == \"paid\" else 0, IntegerType())\n",
        "#df_churn_with_level = df_churn.withColumn(\"level\", flag_level(\"level\"))\n",
        "#df_churn_with_level.show(1)"
      ],
      "metadata": {
        "id": "fwHJUjkqZNJl"
      },
      "execution_count": 96,
      "outputs": []
    },
    {
      "cell_type": "code",
      "source": [
        "# Level\n",
        "from pyspark.sql.functions import when\n",
        "churn_level = df_churn.withColumn(\"level\", when(col(\"level\") == \"paid\", 1).otherwise(0))\n",
        "churn_level.show(1)\n"
      ],
      "metadata": {
        "id": "cAA1QN3dZMay",
        "colab": {
          "base_uri": "https://localhost:8080/"
        },
        "outputId": "e5657716-2f79-4bf8-ee84-9d5c8d88c830"
      },
      "execution_count": 97,
      "outputs": [
        {
          "output_type": "stream",
          "name": "stdout",
          "text": [
            "+-----------+---------+---------+------+-------------+--------+---------+-----+--------------------+------+--------+-------------+---------+----------------+------+-------------+--------------------+------+-------+-----+-----+\n",
            "|     artist|     auth|firstName|gender|itemInSession|lastName|   length|level|            location|method|    page| registration|sessionId|            song|status|           ts|           userAgent|userId|churned|phase|churn|\n",
            "+-----------+---------+---------+------+-------------+--------+---------+-----+--------------------+------+--------+-------------+---------+----------------+------+-------------+--------------------+------+-------+-----+-----+\n",
            "|Evanescence|Logged In|    Colin|     M|            0|  Larson|237.11302|    1|Dallas-Fort Worth...|   PUT|NextSong|1537982255000|      256|Bring Me To Life|   200|1538492662000|Mozilla/5.0 (Wind...|   100|      0|    0|    0|\n",
            "+-----------+---------+---------+------+-------------+--------+---------+-----+--------------------+------+--------+-------------+---------+----------------+------+-------------+--------------------+------+-------+-----+-----+\n",
            "only showing top 1 row\n",
            "\n"
          ]
        }
      ]
    },
    {
      "cell_type": "code",
      "source": [
        "user_level = churn_level.groupby('userId').agg({\"level\": \"max\"}).withColumnRenamed(\"max(level)\", \"level\")\n",
        "user_level.show(5)"
      ],
      "metadata": {
        "colab": {
          "base_uri": "https://localhost:8080/"
        },
        "id": "OXS5TaaxmqWR",
        "outputId": "cdf317bb-0e91-4092-be6f-3893f434895d"
      },
      "execution_count": 98,
      "outputs": [
        {
          "output_type": "stream",
          "name": "stdout",
          "text": [
            "+------+-----+\n",
            "|userId|level|\n",
            "+------+-----+\n",
            "|   125|    0|\n",
            "|    51|    1|\n",
            "|   124|    1|\n",
            "|     7|    0|\n",
            "|    54|    1|\n",
            "+------+-----+\n",
            "only showing top 5 rows\n",
            "\n"
          ]
        }
      ]
    },
    {
      "cell_type": "code",
      "source": [
        "user_plan = churn_level.groupby('userId').agg({\"level\": \"max\"}).withColumnRenamed(\"max(level)\", \"level\")\n",
        "user_plan.show(5)\n"
      ],
      "metadata": {
        "colab": {
          "base_uri": "https://localhost:8080/"
        },
        "id": "ldU8NYkvZXS4",
        "outputId": "de6023dd-9eed-4d5d-80a6-f9ad0346c67e"
      },
      "execution_count": 99,
      "outputs": [
        {
          "output_type": "stream",
          "name": "stdout",
          "text": [
            "+------+-----+\n",
            "|userId|level|\n",
            "+------+-----+\n",
            "|   125|    0|\n",
            "|    51|    1|\n",
            "|   124|    1|\n",
            "|     7|    0|\n",
            "|    54|    1|\n",
            "+------+-----+\n",
            "only showing top 5 rows\n",
            "\n"
          ]
        }
      ]
    },
    {
      "cell_type": "code",
      "source": [
        "# Song count per userID\n",
        "user_song = df_churn.groupby(\"userId\").agg({\"song\": \"count\"}).withColumnRenamed(\"count(song)\", \"song_count\")\n",
        "user_song.show(5)"
      ],
      "metadata": {
        "colab": {
          "base_uri": "https://localhost:8080/"
        },
        "id": "q4ulYWXzZbjR",
        "outputId": "10b849a7-3c4f-4ccf-8764-1b3d6cdf94b1"
      },
      "execution_count": 100,
      "outputs": [
        {
          "output_type": "stream",
          "name": "stdout",
          "text": [
            "+------+----------+\n",
            "|userId|song_count|\n",
            "+------+----------+\n",
            "|   125|        11|\n",
            "|    51|      2464|\n",
            "|   124|      4825|\n",
            "|     7|       201|\n",
            "|    54|      3437|\n",
            "+------+----------+\n",
            "only showing top 5 rows\n",
            "\n"
          ]
        }
      ]
    },
    {
      "cell_type": "code",
      "source": [
        "#from pyspark.sql.functions import when\n",
        "\n",
        "#user_churn = customer_event_df.withColumn(\"churn\", when(col(\"page\") == \"Cancellation Confirmation\", 1).otherwise(0)) \\\n",
        "#                              .groupBy(\"userId\") \\\n",
        "#                              .agg({\"churn\": \"max\"}) \\\n",
        "#                              .withColumnRenamed(\"max(churn)\", \"churn\")\n",
        "#user_churn.show(5)\n"
      ],
      "metadata": {
        "id": "rq-f2w9BKkjv"
      },
      "execution_count": 101,
      "outputs": []
    },
    {
      "cell_type": "code",
      "source": [
        "#from pyspark.sql.functions import expr\n",
        "\n",
        "#user_churn = customer_event_df.selectExpr(\"userId\", \"CASE WHEN page = 'Cancellation Confirmation' THEN 1 ELSE 0 END AS churn\") \\\n",
        "#                              .groupBy(\"userId\") \\\n",
        "#                              .agg(expr(\"max(churn) as churn\"))\n",
        "#user_churn.show(5)\n"
      ],
      "metadata": {
        "id": "qleWsa5kZfLC"
      },
      "execution_count": 102,
      "outputs": []
    },
    {
      "cell_type": "code",
      "source": [
        "# Joining all the features\n",
        "final_df = new_df_original.join(artist_count, ['userId']) \\\n",
        "    .join(user_gender_count, ['userId']) \\\n",
        "    .join(user_total_length, ['userId']) \\\n",
        "    .join(user_level, ['userId']) \\\n",
        "    .join(user_total_thumbs_up, ['userId']) \\\n",
        "    .join(user_total_thumbs_down, ['userId']) \\\n",
        "    .join(user_song, ['userId']) \\\n",
        "#    .join(user_churn, ['userID'])"
      ],
      "metadata": {
        "id": "Bu9sEqoNZj2d"
      },
      "execution_count": 103,
      "outputs": []
    },
    {
      "cell_type": "code",
      "source": [
        "final_df.show(5)"
      ],
      "metadata": {
        "colab": {
          "base_uri": "https://localhost:8080/"
        },
        "id": "3xnlV-KsZpTA",
        "outputId": "43cf6345-d2a6-426f-cb07-78d6db5768e7"
      },
      "execution_count": 104,
      "outputs": [
        {
          "output_type": "stream",
          "name": "stdout",
          "text": [
            "+------+------+------------+------+------------------+-----+--------+----------+----------+\n",
            "|userId|target|artist_count|gender|            length|level|thumb_up|thumb_down|song_count|\n",
            "+------+------+------------+------+------------------+-----+--------+----------+----------+\n",
            "|    51|     1|        2464|     0| 523275.8428000004|    1|     100|        21|      2464|\n",
            "|   124|     0|        4825|     1|1012312.0927899992|    1|     171|        41|      4825|\n",
            "|     7|     0|         201|     0| 38034.08710000002|    0|       7|         1|       201|\n",
            "|    54|     1|        3437|     1|  711344.919540001|    1|     163|        29|      3437|\n",
            "|    15|     0|        2278|     0|477307.60581000056|    1|      81|        14|      2278|\n",
            "+------+------+------------+------+------------------+-----+--------+----------+----------+\n",
            "only showing top 5 rows\n",
            "\n"
          ]
        }
      ]
    },
    {
      "cell_type": "code",
      "source": [
        "final_df.write.csv(\"final_df.csv\", header=True, mode=\"overwrite\")"
      ],
      "metadata": {
        "id": "HgM--keS-8IL"
      },
      "execution_count": 105,
      "outputs": []
    },
    {
      "cell_type": "code",
      "source": [
        "print(\"Number of rows:\", final_df.count())\n",
        "\n",
        "# Print the number of columns in the DataFrame\n",
        "print(\"Number of columns:\", len(final_df.columns))"
      ],
      "metadata": {
        "colab": {
          "base_uri": "https://localhost:8080/"
        },
        "id": "QhP8E32JXiPo",
        "outputId": "09dbdfe2-3653-4e8a-a65e-792bb41d66e7"
      },
      "execution_count": 106,
      "outputs": [
        {
          "output_type": "stream",
          "name": "stdout",
          "text": [
            "Number of rows: 202\n",
            "Number of columns: 9\n"
          ]
        }
      ]
    },
    {
      "cell_type": "code",
      "source": [
        "# Modelling\n",
        "# Dropping UserID column\n",
        "final_df_without_user = final_df.drop(\"userId\")\n",
        "feature_columns = [col for col in final_df_without_user.columns if col!='target']\n",
        "feature_columns"
      ],
      "metadata": {
        "colab": {
          "base_uri": "https://localhost:8080/"
        },
        "id": "1Isg0GKeDPrY",
        "outputId": "5b5bd07c-3efc-4c3f-d51b-95bedab5535f"
      },
      "execution_count": 107,
      "outputs": [
        {
          "output_type": "execute_result",
          "data": {
            "text/plain": [
              "['artist_count',\n",
              " 'gender',\n",
              " 'length',\n",
              " 'level',\n",
              " 'thumb_up',\n",
              " 'thumb_down',\n",
              " 'song_count']"
            ]
          },
          "metadata": {},
          "execution_count": 107
        }
      ]
    },
    {
      "cell_type": "code",
      "source": [],
      "metadata": {
        "id": "QJBo8rLvphLN"
      },
      "execution_count": 107,
      "outputs": []
    },
    {
      "cell_type": "code",
      "source": [
        "train, test = final_df_without_user.randomSplit([0.7, 0.3], seed = 100)\n"
      ],
      "metadata": {
        "id": "qkShmSPbDPuf"
      },
      "execution_count": 108,
      "outputs": []
    },
    {
      "cell_type": "code",
      "source": [
        "final_df_without_user.printSchema()"
      ],
      "metadata": {
        "colab": {
          "base_uri": "https://localhost:8080/"
        },
        "id": "e701JpvVnp6Y",
        "outputId": "7db69a4e-8a08-4323-a6b1-68ff18cfc18c"
      },
      "execution_count": 109,
      "outputs": [
        {
          "output_type": "stream",
          "name": "stdout",
          "text": [
            "root\n",
            " |-- target: long (nullable = true)\n",
            " |-- artist_count: long (nullable = false)\n",
            " |-- gender: integer (nullable = true)\n",
            " |-- length: double (nullable = true)\n",
            " |-- level: integer (nullable = true)\n",
            " |-- thumb_up: long (nullable = false)\n",
            " |-- thumb_down: long (nullable = false)\n",
            " |-- song_count: long (nullable = false)\n",
            "\n"
          ]
        }
      ]
    },
    {
      "cell_type": "code",
      "source": [
        "print(train.count(),len(train.columns))\n",
        "print(test.count(),len(test.columns))\n",
        "\n"
      ],
      "metadata": {
        "colab": {
          "base_uri": "https://localhost:8080/"
        },
        "id": "LSmEjGkTYCmu",
        "outputId": "eeed0560-2f4b-4da1-a6e5-2e697c285278"
      },
      "execution_count": 110,
      "outputs": [
        {
          "output_type": "stream",
          "name": "stdout",
          "text": [
            "142 8\n",
            "60 8\n"
          ]
        }
      ]
    },
    {
      "cell_type": "code",
      "source": [
        "# Define the feature columns\n",
        "from pyspark.ml import Pipeline\n",
        "from pyspark.ml.feature import MinMaxScaler, VectorAssembler\n",
        "from pyspark.ml.classification import LogisticRegression, RandomForestClassifier, GBTClassifier\n",
        "from pyspark.ml.evaluation import BinaryClassificationEvaluator, MulticlassClassificationEvaluator\n",
        "from pyspark.ml.tuning import CrossValidator, ParamGridBuilder\n",
        "\n",
        "# Define the pipeline stages\n",
        "assembler = VectorAssembler(inputCols=feature_columns, outputCol=\"features\")\n",
        "scaler = MinMaxScaler(inputCol=\"features\", outputCol=\"scaled_features\")\n",
        "lr = LogisticRegression(featuresCol=\"scaled_features\", labelCol=\"target\")\n",
        "pipeline = Pipeline(stages=[assembler, scaler, lr])\n",
        "\n",
        "# Define the hyperparameters to tune\n",
        "param_grid = ParamGridBuilder().build()\n",
        "\n",
        "# Define the cross-validation process\n",
        "evaluator = MulticlassClassificationEvaluator(labelCol='target', metricName='f1')\n",
        "cv = CrossValidator(estimator=pipeline, estimatorParamMaps=param_grid, evaluator=evaluator, numFolds=5)\n",
        "\n",
        "# Train the model\n",
        "cv_model = cv.fit(train)\n",
        "\n",
        "# Make predictions on the test data\n",
        "predictions = cv_model.transform(test)\n",
        "\n",
        "# Evaluate the model performance\n",
        "evaluator = MulticlassClassificationEvaluator(predictionCol=\"prediction\", labelCol=\"target\", metricName=\"f1\")\n",
        "f1_score = evaluator.evaluate(predictions)\n",
        "print(\"F1 score: {:.4f}\".format(f1_score))"
      ],
      "metadata": {
        "id": "QBUC5L1uc9NJ",
        "colab": {
          "base_uri": "https://localhost:8080/"
        },
        "outputId": "5095edaf-804d-4e7f-f423-3caae4dc9d26"
      },
      "execution_count": 111,
      "outputs": [
        {
          "output_type": "stream",
          "name": "stdout",
          "text": [
            "F1 score: 0.6882\n"
          ]
        }
      ]
    },
    {
      "cell_type": "code",
      "source": [
        "# Model without hyper-parameter\n",
        "assembler = VectorAssembler(inputCols=feature_columns, outputCol=\"features\")\n",
        "scaler = MinMaxScaler(inputCol=\"features\", outputCol=\"scaled_features\")\n",
        "lr = LogisticRegression(featuresCol=\"scaled_features\", labelCol=\"target\")\n",
        "pipeline = Pipeline(stages=[assembler, scaler, lr])\n",
        "lr1 = pipeline.fit(train)\n",
        "predictions = lr1.transform(test)\n",
        "\n",
        "evaluator = MulticlassClassificationEvaluator(predictionCol=\"prediction\", labelCol=\"target\", metricName=\"f1\")\n",
        "f1_score = evaluator.evaluate(predictions)\n",
        "print(\"F1 score: {:.4f}\".format(f1_score))"
      ],
      "metadata": {
        "colab": {
          "base_uri": "https://localhost:8080/"
        },
        "id": "2W74CYOfgNbl",
        "outputId": "9d05d05c-20be-44fb-cd86-2ab901a8a527"
      },
      "execution_count": 112,
      "outputs": [
        {
          "output_type": "stream",
          "name": "stdout",
          "text": [
            "F1 score: 0.6882\n"
          ]
        }
      ]
    },
    {
      "cell_type": "code",
      "source": [
        "# Checking for model to export"
      ],
      "metadata": {
        "id": "-nGDTGiaqYm_"
      },
      "execution_count": 113,
      "outputs": []
    },
    {
      "cell_type": "code",
      "source": [
        "feature_cols2 = final_df_without_user.columns[1:]\n",
        "\n",
        "assembler2 = VectorAssembler(inputCols=feature_cols2, outputCol=\"features\")\n",
        "\n",
        "model_df = assembler.transform(final_df_without_user).select(\"features\", \"target\")"
      ],
      "metadata": {
        "id": "or7fKG-3n1lk"
      },
      "execution_count": 114,
      "outputs": []
    },
    {
      "cell_type": "code",
      "source": [
        "train_data, test_data = model_df.randomSplit([0.7, 0.3], seed=42)"
      ],
      "metadata": {
        "id": "qIpdeqAHqPiJ"
      },
      "execution_count": 115,
      "outputs": []
    },
    {
      "cell_type": "code",
      "source": [
        "lr = LogisticRegression(featuresCol=\"features\", labelCol=\"target\")\n",
        "lr_model = lr.fit(train_data)\n",
        "predictions = lr_model.transform(test_data)\n",
        "\n",
        "evaluator = MulticlassClassificationEvaluator(predictionCol=\"prediction\", labelCol=\"target\", metricName=\"f1\")\n",
        "f1_score = evaluator.evaluate(predictions)\n",
        "print(\"F1 score: {:.4f}\".format(f1_score))"
      ],
      "metadata": {
        "colab": {
          "base_uri": "https://localhost:8080/"
        },
        "id": "T22wH6tYqUmt",
        "outputId": "bbcd8b62-32a4-4ec8-e48e-9601b4ead51c"
      },
      "execution_count": 116,
      "outputs": [
        {
          "output_type": "stream",
          "name": "stdout",
          "text": [
            "F1 score: 0.5884\n"
          ]
        }
      ]
    },
    {
      "cell_type": "code",
      "source": [
        "best_model_path = 'models/lr_model'\n",
        "lr_model.save(best_model_path)\n"
      ],
      "metadata": {
        "id": "AKA0sUPUcSmC"
      },
      "execution_count": 117,
      "outputs": []
    },
    {
      "cell_type": "code",
      "source": [
        "!zip -r /content/models/lr_model.zip /content/models/lr_model"
      ],
      "metadata": {
        "colab": {
          "base_uri": "https://localhost:8080/"
        },
        "id": "kCVbOuuXe44_",
        "outputId": "7d1188e9-cfa5-40d7-a8a5-c4662333a1e2"
      },
      "execution_count": 118,
      "outputs": [
        {
          "output_type": "stream",
          "name": "stdout",
          "text": [
            "  adding: content/models/lr_model/ (stored 0%)\n",
            "  adding: content/models/lr_model/data/ (stored 0%)\n",
            "  adding: content/models/lr_model/data/part-00000-76c8517e-7768-4d0c-8f91-a5c9203d1901-c000.snappy.parquet (deflated 68%)\n",
            "  adding: content/models/lr_model/data/.part-00000-76c8517e-7768-4d0c-8f91-a5c9203d1901-c000.snappy.parquet.crc (stored 0%)\n",
            "  adding: content/models/lr_model/data/_SUCCESS (stored 0%)\n",
            "  adding: content/models/lr_model/data/._SUCCESS.crc (stored 0%)\n",
            "  adding: content/models/lr_model/metadata/ (stored 0%)\n",
            "  adding: content/models/lr_model/metadata/.part-00000.crc (stored 0%)\n",
            "  adding: content/models/lr_model/metadata/part-00000 (deflated 43%)\n",
            "  adding: content/models/lr_model/metadata/_SUCCESS (stored 0%)\n",
            "  adding: content/models/lr_model/metadata/._SUCCESS.crc (stored 0%)\n"
          ]
        }
      ]
    },
    {
      "cell_type": "code",
      "source": [
        "import pandas as pd\n",
        "\n",
        "# Get coefficients and feature names\n",
        "coefficients = cv_model.bestModel.stages[-1].coefficients.toArray()\n",
        "feature_names = assembler.getInputCols()\n",
        "\n",
        "# Create a pandas dataframe with feature names and coefficients\n",
        "df_coefficients = pd.DataFrame({'Feature': feature_names, 'Coefficient': coefficients})\n",
        "\n",
        "# Sort dataframe by absolute value of coefficients in descending order\n",
        "df_coefficients = df_coefficients.reindex(df_coefficients['Coefficient'].abs().sort_values(ascending=False).index)\n",
        "\n",
        "# Print dataframe\n",
        "print(df_coefficients)\n",
        "\n"
      ],
      "metadata": {
        "colab": {
          "base_uri": "https://localhost:8080/"
        },
        "id": "T2QvMVJUcMy4",
        "outputId": "2391a83b-f34f-43ba-f5d5-e836668573ba"
      },
      "execution_count": 119,
      "outputs": [
        {
          "output_type": "stream",
          "name": "stdout",
          "text": [
            "        Feature  Coefficient\n",
            "2        length   -40.444739\n",
            "0  artist_count    21.814823\n",
            "6    song_count    21.814823\n",
            "4      thumb_up    -9.812459\n",
            "5    thumb_down     1.046980\n",
            "3         level     0.671533\n",
            "1        gender    -0.397468\n"
          ]
        }
      ]
    },
    {
      "cell_type": "code",
      "source": [
        "from pyspark.ml.classification import RandomForestClassifier\n",
        "from pyspark.ml.feature import VectorAssembler\n",
        "from pyspark.ml.feature import StringIndexer\n",
        "from pyspark.ml.feature import VectorIndexer\n",
        "from pyspark.ml.evaluation import MulticlassClassificationEvaluator\n",
        "from pyspark.ml import Pipeline\n",
        "from pyspark.ml.tuning import CrossValidator, ParamGridBuilder\n",
        "\n",
        "# Define the feature columns\n",
        "feature_columns = train.columns[2:]\n",
        "\n",
        "# Define the pipeline stages\n",
        "assembler = VectorAssembler(inputCols=feature_columns, outputCol=\"features\")\n",
        "scaler = MinMaxScaler(inputCol=\"features\", outputCol=\"scaled_features\")\n",
        "#label_indexer = StringIndexer(inputCol=\"target\", outputCol=\"indexed_label\").fit(train)\n",
        "#feature_indexer = VectorIndexer(inputCol=\"features\", outputCol=\"indexed_features\").fit(train)\n",
        "rf = RandomForestClassifier(labelCol=\"target\", featuresCol=\"scaled_features\")\n",
        "# pipeline = Pipeline(stages=[assembler, label_indexer, feature_indexer, rf])\n",
        "pipeline = Pipeline(stages=[assembler, scaler, rf])\n",
        "\n",
        "# Define the hyperparameters to tune\n",
        "param_grid = ParamGridBuilder() \\\n",
        "    .addGrid(rf.numTrees, [10, 20, 30]) \\\n",
        "    .addGrid(rf.maxDepth, [5, 10, 15]) \\\n",
        "    .build()\n",
        "\n",
        "# Define the cross-validation process\n",
        "evaluator = MulticlassClassificationEvaluator(labelCol=\"target\", predictionCol=\"prediction\", metricName=\"f1\")\n",
        "cv = CrossValidator(estimator=pipeline, estimatorParamMaps=param_grid, evaluator=evaluator, numFolds=5)\n",
        "\n",
        "# Train the model\n",
        "cv_model = cv.fit(train)\n",
        "\n",
        "# Make predictions on the test data\n",
        "predictions = cv_model.transform(test)\n",
        "\n",
        "# Evaluate the model performance\n",
        "f1_score = evaluator.evaluate(predictions)\n",
        "print(\"F1 score: {:.4f}\".format(f1_score))\n"
      ],
      "metadata": {
        "colab": {
          "base_uri": "https://localhost:8080/"
        },
        "id": "Fsrc0auADQFZ",
        "outputId": "75dcd846-b61e-4833-e460-2cf795c7544b"
      },
      "execution_count": 120,
      "outputs": [
        {
          "output_type": "stream",
          "name": "stdout",
          "text": [
            "F1 score: 0.7240\n"
          ]
        }
      ]
    },
    {
      "cell_type": "code",
      "source": [
        "from pyspark.ml.classification import GBTClassifier\n",
        "from pyspark.ml.evaluation import MulticlassClassificationEvaluator\n",
        "from pyspark.ml.feature import VectorAssembler, MinMaxScaler\n",
        "from pyspark.ml.tuning import ParamGridBuilder, CrossValidator\n",
        "from pyspark.ml.pipeline import Pipeline\n",
        "\n",
        "# Define the feature columns\n",
        "#feature_columns = train.columns[2:]\n",
        "\n",
        "# Define the pipeline stages\n",
        "assembler = VectorAssembler(inputCols=feature_columns, outputCol=\"features\")\n",
        "scaler = MinMaxScaler(inputCol=\"features\", outputCol=\"scaled_features\")\n",
        "gbt = GBTClassifier(labelCol=\"target\", featuresCol=\"scaled_features\")\n",
        "pipeline = Pipeline(stages=[assembler, scaler, gbt])\n",
        "\n",
        "# Define the hyperparameters to tune\n",
        "param_grid = ParamGridBuilder() \\\n",
        "    .addGrid(gbt.maxDepth, [5, 10, 15]) \\\n",
        "    .addGrid(gbt.maxIter, [10, 20, 30]) \\\n",
        "    .build()\n",
        "\n",
        "# Define the cross-validation process\n",
        "evaluator = MulticlassClassificationEvaluator(labelCol=\"target\", predictionCol=\"prediction\", metricName=\"f1\")\n",
        "cv = CrossValidator(estimator=pipeline, estimatorParamMaps=param_grid, evaluator=evaluator, numFolds=5)\n",
        "\n",
        "# Train the model\n",
        "cv_model = cv.fit(train)\n",
        "\n",
        "# Make predictions on the test data\n",
        "predictions = cv_model.transform(test)\n",
        "\n",
        "# Evaluate the model performance\n",
        "f1_score = evaluator.evaluate(predictions)\n",
        "print(\"F1 score: {:.4f}\".format(f1_score))"
      ],
      "metadata": {
        "id": "8CpcEu5-ceLz"
      },
      "execution_count": null,
      "outputs": []
    },
    {
      "cell_type": "code",
      "source": [
        "from pyspark.ml.classification import LinearSVC\n",
        "from pyspark.ml.evaluation import MulticlassClassificationEvaluator\n",
        "from pyspark.ml.feature import VectorAssembler, MinMaxScaler\n",
        "from pyspark.ml.tuning import ParamGridBuilder, CrossValidator\n",
        "from pyspark.ml.pipeline import Pipeline\n",
        "\n",
        "# Define the feature columns\n",
        "feature_columns = train.columns[2:]\n",
        "\n",
        "# Define the pipeline stages\n",
        "assembler = VectorAssembler(inputCols=feature_columns, outputCol=\"features\")\n",
        "scaler = MinMaxScaler(inputCol=\"features\", outputCol=\"scaled_features\")\n",
        "svm = LinearSVC(labelCol=\"target\", featuresCol=\"scaled_features\")\n",
        "pipeline = Pipeline(stages=[assembler, scaler, svm])\n",
        "\n",
        "# Define the hyperparameters to tune\n",
        "param_grid = ParamGridBuilder() \\\n",
        "    .addGrid(svm.regParam, [0.01, 0.1, 1.0]) \\\n",
        "    .addGrid(svm.maxIter, [10, 20, 30]) \\\n",
        "    .build()\n",
        "\n",
        "# Define the cross-validation process\n",
        "evaluator = MulticlassClassificationEvaluator(labelCol=\"target\", predictionCol=\"prediction\", metricName=\"f1\")\n",
        "cv = CrossValidator(estimator=pipeline, estimatorParamMaps=param_grid, evaluator=evaluator, numFolds=5)\n",
        "\n",
        "# Train the model\n",
        "cv_model = cv.fit(train)\n",
        "\n",
        "# Make predictions on the test data\n",
        "predictions = cv_model.transform(test)\n",
        "\n",
        "# Evaluate the model performance\n",
        "f1_score = evaluator.evaluate(predictions)\n",
        "print(\"F1 score: {:.4f}\".format(f1_score))\n"
      ],
      "metadata": {
        "id": "HG7g573DsN5l"
      },
      "execution_count": null,
      "outputs": []
    },
    {
      "cell_type": "code",
      "source": [],
      "metadata": {
        "id": "5x6Yxzy5sThZ"
      },
      "execution_count": null,
      "outputs": []
    }
  ],
  "metadata": {
    "colab": {
      "provenance": []
    },
    "kernelspec": {
      "display_name": "Python 3",
      "name": "python3"
    },
    "accelerator": "GPU",
    "gpuClass": "standard"
  },
  "nbformat": 4,
  "nbformat_minor": 0
}